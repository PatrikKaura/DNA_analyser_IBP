{
 "cells": [
  {
   "cell_type": "markdown",
   "metadata": {},
   "source": [
    "### ALL COMMAND TESTING FILE"
   ]
  },
  {
   "cell_type": "code",
   "execution_count": 1,
   "metadata": {},
   "outputs": [],
   "source": [
    "from DNA_analyser_IBP import Api # import OK"
   ]
  },
  {
   "cell_type": "code",
   "execution_count": 2,
   "metadata": {},
   "outputs": [
    {
     "name": "stdout",
     "output_type": "stream",
     "text": [
      "Enter your email\tuser@mendelu.cz\n",
      "Enter your password\t········\n",
      "2020-08-31 21:21:35.309848 [INFO]: User user@mendelu.cz is trying to login ...\n",
      "2020-08-31 21:21:35.452465 [INFO]: User user@mendelu.cz is successfully loged in ...\n"
     ]
    }
   ],
   "source": [
    "API = Api() # login OK"
   ]
  },
  {
   "cell_type": "markdown",
   "metadata": {},
   "source": [
    "### G4KILLER AND P53 TEST"
   ]
  },
  {
   "cell_type": "code",
   "execution_count": 3,
   "metadata": {},
   "outputs": [
    {
     "data": {
      "text/html": [
       "<div>\n",
       "<style scoped>\n",
       "    .dataframe tbody tr th:only-of-type {\n",
       "        vertical-align: middle;\n",
       "    }\n",
       "\n",
       "    .dataframe tbody tr th {\n",
       "        vertical-align: top;\n",
       "    }\n",
       "\n",
       "    .dataframe thead th {\n",
       "        text-align: right;\n",
       "    }\n",
       "</style>\n",
       "<table border=\"1\" class=\"dataframe\">\n",
       "  <thead>\n",
       "    <tr style=\"text-align: right;\">\n",
       "      <th></th>\n",
       "      <th>0</th>\n",
       "    </tr>\n",
       "  </thead>\n",
       "  <tbody>\n",
       "    <tr>\n",
       "      <th>origin_score</th>\n",
       "      <td>-2.46154</td>\n",
       "    </tr>\n",
       "    <tr>\n",
       "      <th>change_count</th>\n",
       "      <td>0</td>\n",
       "    </tr>\n",
       "    <tr>\n",
       "      <th>mutation_score</th>\n",
       "      <td>0</td>\n",
       "    </tr>\n",
       "    <tr>\n",
       "      <th>origin_sequence</th>\n",
       "      <td>ATACCCCCCGCCC</td>\n",
       "    </tr>\n",
       "    <tr>\n",
       "      <th>on_complementary</th>\n",
       "      <td>False</td>\n",
       "    </tr>\n",
       "    <tr>\n",
       "      <th>target_threshold</th>\n",
       "      <td>1.2</td>\n",
       "    </tr>\n",
       "    <tr>\n",
       "      <th>mutation_variants</th>\n",
       "      <td>0</td>\n",
       "    </tr>\n",
       "    <tr>\n",
       "      <th>mutation_sequences</th>\n",
       "      <td>None</td>\n",
       "    </tr>\n",
       "  </tbody>\n",
       "</table>\n",
       "</div>"
      ],
      "text/plain": [
       "                                0\n",
       "origin_score             -2.46154\n",
       "change_count                    0\n",
       "mutation_score                  0\n",
       "origin_sequence     ATACCCCCCGCCC\n",
       "on_complementary            False\n",
       "target_threshold              1.2\n",
       "mutation_variants               0\n",
       "mutation_sequences           None"
      ]
     },
     "execution_count": 3,
     "metadata": {},
     "output_type": "execute_result"
    }
   ],
   "source": [
    "API.g4killer.run(complementary=False, sequence='ATACCCCCCGCCC', threshold=1.2) # g4killer OK"
   ]
  },
  {
   "cell_type": "code",
   "execution_count": 4,
   "metadata": {},
   "outputs": [
    {
     "data": {
      "text/html": [
       "<div>\n",
       "<style scoped>\n",
       "    .dataframe tbody tr th:only-of-type {\n",
       "        vertical-align: middle;\n",
       "    }\n",
       "\n",
       "    .dataframe tbody tr th {\n",
       "        vertical-align: top;\n",
       "    }\n",
       "\n",
       "    .dataframe thead th {\n",
       "        text-align: right;\n",
       "    }\n",
       "</style>\n",
       "<table border=\"1\" class=\"dataframe\">\n",
       "  <thead>\n",
       "    <tr style=\"text-align: right;\">\n",
       "      <th></th>\n",
       "      <th>0</th>\n",
       "    </tr>\n",
       "  </thead>\n",
       "  <tbody>\n",
       "    <tr>\n",
       "      <th>sequence</th>\n",
       "      <td>ATCCCCCCCCCCCCCCCCCA</td>\n",
       "    </tr>\n",
       "    <tr>\n",
       "      <th>affinity</th>\n",
       "      <td>0</td>\n",
       "    </tr>\n",
       "    <tr>\n",
       "      <th>predictor</th>\n",
       "      <td>4.09</td>\n",
       "    </tr>\n",
       "    <tr>\n",
       "      <th>difference</th>\n",
       "      <td>-3.52</td>\n",
       "    </tr>\n",
       "    <tr>\n",
       "      <th>length</th>\n",
       "      <td>20</td>\n",
       "    </tr>\n",
       "    <tr>\n",
       "      <th>position</th>\n",
       "      <td>0</td>\n",
       "    </tr>\n",
       "  </tbody>\n",
       "</table>\n",
       "</div>"
      ],
      "text/plain": [
       "                               0\n",
       "sequence    ATCCCCCCCCCCCCCCCCCA\n",
       "affinity                       0\n",
       "predictor                   4.09\n",
       "difference                 -3.52\n",
       "length                        20\n",
       "position                       0"
      ]
     },
     "execution_count": 4,
     "metadata": {},
     "output_type": "execute_result"
    }
   ],
   "source": [
    "API.p53_predictor.run(sequence='ATCCCCCCCCCCCCCCCCCA') # p53 OK"
   ]
  },
  {
   "cell_type": "markdown",
   "metadata": {},
   "source": [
    "### SEQUENCE TEST"
   ]
  },
  {
   "cell_type": "code",
   "execution_count": 5,
   "metadata": {},
   "outputs": [
    {
     "data": {
      "text/html": [
       "<div>\n",
       "<style scoped>\n",
       "    .dataframe tbody tr th:only-of-type {\n",
       "        vertical-align: middle;\n",
       "    }\n",
       "\n",
       "    .dataframe tbody tr th {\n",
       "        vertical-align: top;\n",
       "    }\n",
       "\n",
       "    .dataframe thead th {\n",
       "        text-align: right;\n",
       "    }\n",
       "</style>\n",
       "<table border=\"1\" class=\"dataframe\">\n",
       "  <thead>\n",
       "    <tr style=\"text-align: right;\">\n",
       "      <th></th>\n",
       "      <th>id</th>\n",
       "      <th>name</th>\n",
       "      <th>type</th>\n",
       "      <th>tags</th>\n",
       "      <th>length</th>\n",
       "      <th>circular</th>\n",
       "      <th>created</th>\n",
       "      <th>ncbi</th>\n",
       "      <th>fasta_comment</th>\n",
       "      <th>gc_count</th>\n",
       "      <th>nucleic_count</th>\n",
       "    </tr>\n",
       "  </thead>\n",
       "  <tbody>\n",
       "    <tr>\n",
       "      <th>0</th>\n",
       "      <td>c44dc4f9-b3ac-4194-b1ed-49ec3666ff95</td>\n",
       "      <td>Test sequence 1 G6C-4x</td>\n",
       "      <td>DNA</td>\n",
       "      <td></td>\n",
       "      <td>27</td>\n",
       "      <td>False</td>\n",
       "      <td>2020-08-30T17:54:04.192+0000</td>\n",
       "      <td>None</td>\n",
       "      <td>None</td>\n",
       "      <td>None</td>\n",
       "      <td>None</td>\n",
       "    </tr>\n",
       "    <tr>\n",
       "      <th>1</th>\n",
       "      <td>a9f21df4-68fe-47d5-9a80-03d2aa6ce322</td>\n",
       "      <td>Test sequence 2 C6G-4x</td>\n",
       "      <td>DNA</td>\n",
       "      <td></td>\n",
       "      <td>27</td>\n",
       "      <td>False</td>\n",
       "      <td>2020-08-30T17:54:04.194+0000</td>\n",
       "      <td>None</td>\n",
       "      <td>None</td>\n",
       "      <td>None</td>\n",
       "      <td>None</td>\n",
       "    </tr>\n",
       "    <tr>\n",
       "      <th>2</th>\n",
       "      <td>c045096f-1ea7-4242-9ce4-1088588073dc</td>\n",
       "      <td>Test sequence 3 Human telomere repeat 9x</td>\n",
       "      <td>DNA</td>\n",
       "      <td></td>\n",
       "      <td>51</td>\n",
       "      <td>False</td>\n",
       "      <td>2020-08-30T17:54:04.195+0000</td>\n",
       "      <td>None</td>\n",
       "      <td>None</td>\n",
       "      <td>None</td>\n",
       "      <td>None</td>\n",
       "    </tr>\n",
       "    <tr>\n",
       "      <th>3</th>\n",
       "      <td>a2562cd5-dfe4-4ee1-b1ee-364f42f3c5f3</td>\n",
       "      <td>Test sequence 4 NC_001357.1 Human papillomavirus</td>\n",
       "      <td>DNA</td>\n",
       "      <td></td>\n",
       "      <td>7857</td>\n",
       "      <td>False</td>\n",
       "      <td>2020-08-30T17:54:04.195+0000</td>\n",
       "      <td>NC_001357.1</td>\n",
       "      <td>None</td>\n",
       "      <td>None</td>\n",
       "      <td>None</td>\n",
       "    </tr>\n",
       "    <tr>\n",
       "      <th>4</th>\n",
       "      <td>59913003-e399-44f0-8697-f36d164d2ff9</td>\n",
       "      <td>Test sequence 5 NC_012920.1 Homo sapiens mitoc...</td>\n",
       "      <td>DNA</td>\n",
       "      <td></td>\n",
       "      <td>16569</td>\n",
       "      <td>True</td>\n",
       "      <td>2020-08-30T17:54:04.196+0000</td>\n",
       "      <td>NC_001357.1</td>\n",
       "      <td>None</td>\n",
       "      <td>None</td>\n",
       "      <td>None</td>\n",
       "    </tr>\n",
       "  </tbody>\n",
       "</table>\n",
       "</div>"
      ],
      "text/plain": [
       "                                     id  \\\n",
       "0  c44dc4f9-b3ac-4194-b1ed-49ec3666ff95   \n",
       "1  a9f21df4-68fe-47d5-9a80-03d2aa6ce322   \n",
       "2  c045096f-1ea7-4242-9ce4-1088588073dc   \n",
       "3  a2562cd5-dfe4-4ee1-b1ee-364f42f3c5f3   \n",
       "4  59913003-e399-44f0-8697-f36d164d2ff9   \n",
       "\n",
       "                                                name type tags  length  \\\n",
       "0                             Test sequence 1 G6C-4x  DNA           27   \n",
       "1                             Test sequence 2 C6G-4x  DNA           27   \n",
       "2           Test sequence 3 Human telomere repeat 9x  DNA           51   \n",
       "3   Test sequence 4 NC_001357.1 Human papillomavirus  DNA         7857   \n",
       "4  Test sequence 5 NC_012920.1 Homo sapiens mitoc...  DNA        16569   \n",
       "\n",
       "   circular                       created         ncbi fasta_comment gc_count  \\\n",
       "0     False  2020-08-30T17:54:04.192+0000         None          None     None   \n",
       "1     False  2020-08-30T17:54:04.194+0000         None          None     None   \n",
       "2     False  2020-08-30T17:54:04.195+0000         None          None     None   \n",
       "3     False  2020-08-30T17:54:04.195+0000  NC_001357.1          None     None   \n",
       "4      True  2020-08-30T17:54:04.196+0000  NC_001357.1          None     None   \n",
       "\n",
       "  nucleic_count  \n",
       "0          None  \n",
       "1          None  \n",
       "2          None  \n",
       "3          None  \n",
       "4          None  "
      ]
     },
     "execution_count": 5,
     "metadata": {},
     "output_type": "execute_result"
    }
   ],
   "source": [
    "API.sequence.load_all()"
   ]
  },
  {
   "cell_type": "code",
   "execution_count": 6,
   "metadata": {},
   "outputs": [
    {
     "data": {
      "text/html": [
       "<div>\n",
       "<style scoped>\n",
       "    .dataframe tbody tr th:only-of-type {\n",
       "        vertical-align: middle;\n",
       "    }\n",
       "\n",
       "    .dataframe tbody tr th {\n",
       "        vertical-align: top;\n",
       "    }\n",
       "\n",
       "    .dataframe thead th {\n",
       "        text-align: right;\n",
       "    }\n",
       "</style>\n",
       "<table border=\"1\" class=\"dataframe\">\n",
       "  <thead>\n",
       "    <tr style=\"text-align: right;\">\n",
       "      <th></th>\n",
       "      <th>id</th>\n",
       "      <th>name</th>\n",
       "      <th>type</th>\n",
       "      <th>tags</th>\n",
       "      <th>length</th>\n",
       "      <th>circular</th>\n",
       "      <th>created</th>\n",
       "      <th>ncbi</th>\n",
       "      <th>fasta_comment</th>\n",
       "      <th>gc_count</th>\n",
       "      <th>nucleic_count</th>\n",
       "    </tr>\n",
       "  </thead>\n",
       "  <tbody>\n",
       "    <tr>\n",
       "      <th>0</th>\n",
       "      <td>c44dc4f9-b3ac-4194-b1ed-49ec3666ff95</td>\n",
       "      <td>Test sequence 1 G6C-4x</td>\n",
       "      <td>DNA</td>\n",
       "      <td></td>\n",
       "      <td>27</td>\n",
       "      <td>False</td>\n",
       "      <td>2020-08-30T17:54:04.192+0000</td>\n",
       "      <td>None</td>\n",
       "      <td>None</td>\n",
       "      <td>None</td>\n",
       "      <td>None</td>\n",
       "    </tr>\n",
       "  </tbody>\n",
       "</table>\n",
       "</div>"
      ],
      "text/plain": [
       "                                     id                    name type tags  \\\n",
       "0  c44dc4f9-b3ac-4194-b1ed-49ec3666ff95  Test sequence 1 G6C-4x  DNA        \n",
       "\n",
       "   length  circular                       created  ncbi fasta_comment  \\\n",
       "0      27     False  2020-08-30T17:54:04.192+0000  None          None   \n",
       "\n",
       "  gc_count nucleic_count  \n",
       "0     None          None  "
      ]
     },
     "execution_count": 6,
     "metadata": {},
     "output_type": "execute_result"
    }
   ],
   "source": [
    "SEQUENCE_ID = API.sequence.load_all().iloc[0][\"id\"]\n",
    "\n",
    "API.sequence.load_by_id(id=SEQUENCE_ID)"
   ]
  },
  {
   "cell_type": "code",
   "execution_count": 7,
   "metadata": {},
   "outputs": [
    {
     "data": {
      "text/plain": [
       "'GGGGGGCGGGGGGCGGGGGG'"
      ]
     },
     "execution_count": 7,
     "metadata": {},
     "output_type": "execute_result"
    }
   ],
   "source": [
    "API.sequence.load_data(\n",
    "    sequence=API.sequence.load_by_id(id=SEQUENCE_ID),\n",
    "    length=20,\n",
    "    position=0\n",
    ") # OK with DataFrame"
   ]
  },
  {
   "cell_type": "code",
   "execution_count": 8,
   "metadata": {},
   "outputs": [
    {
     "data": {
      "text/plain": [
       "'GGGGGGCGGGGGGCGGGGGG'"
      ]
     },
     "execution_count": 8,
     "metadata": {},
     "output_type": "execute_result"
    }
   ],
   "source": [
    "API.sequence.load_data(\n",
    "    sequence=API.sequence.load_by_id(id=SEQUENCE_ID).iloc[0],\n",
    "    length=20,\n",
    "    position=0\n",
    ") # OK with Series"
   ]
  },
  {
   "cell_type": "code",
   "execution_count": 9,
   "metadata": {},
   "outputs": [
    {
     "name": "stdout",
     "output_type": "stream",
     "text": [
      "2020-08-30 19:54:10.018242 [INFO]: Sequence c44dc4f9-b3ac-4194-b1ed-49ec3666ff95 was deleted!\n"
     ]
    }
   ],
   "source": [
    "API.sequence.delete(sequence=API.sequence.load_by_id(id=SEQUENCE_ID).iloc[0]) # OK with DataFrame also Series"
   ]
  },
  {
   "cell_type": "code",
   "execution_count": 10,
   "metadata": {},
   "outputs": [
    {
     "name": "stdout",
     "output_type": "stream",
     "text": [
      "2020-08-30 19:54:11.167753 [INFO]: Sequence a9f21df4-68fe-47d5-9a80-03d2aa6ce322 nucleotides was re-counted!\n"
     ]
    }
   ],
   "source": [
    "API.sequence.nucleic_count(sequence=API.sequence.load_all().iloc[0])"
   ]
  },
  {
   "cell_type": "code",
   "execution_count": 11,
   "metadata": {},
   "outputs": [
    {
     "name": "stderr",
     "output_type": "stream",
     "text": [
      "Uploading sequence testovaci: 100 % [00:01, 84.92 %/s]\n"
     ]
    }
   ],
   "source": [
    "API.sequence.text_creator(\n",
    "    circular=True,\n",
    "    tags=['test'],\n",
    "    nucleic_type='DNA',\n",
    "    string='ATACACACGGGAGAGAG',\n",
    "    name='testovaci'\n",
    ")"
   ]
  },
  {
   "cell_type": "code",
   "execution_count": 12,
   "metadata": {},
   "outputs": [
    {
     "name": "stderr",
     "output_type": "stream",
     "text": [
      "Uploading sequence testovaci_shit: 50 % [00:08,  6.06 %/s]"
     ]
    },
    {
     "name": "stdout",
     "output_type": "stream",
     "text": [
      "2020-08-30 19:54:22.997012 [ERROR]: Server not responding, please retry again!\n"
     ]
    },
    {
     "name": "stderr",
     "output_type": "stream",
     "text": [
      "\n"
     ]
    }
   ],
   "source": [
    "API.sequence.ncbi_creator(\n",
    "    tags=['test'],\n",
    "    circular=False,\n",
    "    name='testovaci shit',\n",
    "    ncbi_id='NC_000012'\n",
    ")"
   ]
  },
  {
   "cell_type": "code",
   "execution_count": 13,
   "metadata": {},
   "outputs": [
    {
     "name": "stderr",
     "output_type": "stream",
     "text": [
      "Uploading sequence testovaci_shit: 100 % [00:01, 83.94 %/s]\n"
     ]
    }
   ],
   "source": [
    "API.sequence.file_creator(\n",
    "    tags=['test'],\n",
    "    circular=True,\n",
    "    nucleic_type='DNA',\n",
    "    name='testovaci_shit',\n",
    "    format='PLAIN',\n",
    "    path='./test.txt'\n",
    ")"
   ]
  },
  {
   "cell_type": "markdown",
   "metadata": {},
   "source": [
    "### G4HUNTER"
   ]
  },
  {
   "cell_type": "code",
   "execution_count": 3,
   "metadata": {},
   "outputs": [
    {
     "name": "stderr",
     "output_type": "stream",
     "text": [
      "G4Hunter is processing Test_sequence_3_Human_telomere_repeat_9x: 100 % [00:01, 85.84 %/s]\n"
     ]
    }
   ],
   "source": [
    "API.g4hunter.analyse_creator(\n",
    "    tags=['test'],\n",
    "    sequence=API.sequence.load_all().iloc[2],\n",
    "    threshold=1.2,\n",
    "    window_size=25\n",
    ")"
   ]
  },
  {
   "cell_type": "code",
   "execution_count": 4,
   "metadata": {},
   "outputs": [
    {
     "data": {
      "text/html": [
       "<div>\n",
       "<style scoped>\n",
       "    .dataframe tbody tr th:only-of-type {\n",
       "        vertical-align: middle;\n",
       "    }\n",
       "\n",
       "    .dataframe tbody tr th {\n",
       "        vertical-align: top;\n",
       "    }\n",
       "\n",
       "    .dataframe thead th {\n",
       "        text-align: right;\n",
       "    }\n",
       "</style>\n",
       "<table border=\"1\" class=\"dataframe\">\n",
       "  <thead>\n",
       "    <tr style=\"text-align: right;\">\n",
       "      <th></th>\n",
       "      <th>id</th>\n",
       "      <th>title</th>\n",
       "      <th>tags</th>\n",
       "      <th>created</th>\n",
       "      <th>finished</th>\n",
       "      <th>sequence_id</th>\n",
       "      <th>result_count</th>\n",
       "      <th>threshold</th>\n",
       "      <th>frequency</th>\n",
       "      <th>window_size</th>\n",
       "    </tr>\n",
       "  </thead>\n",
       "  <tbody>\n",
       "    <tr>\n",
       "      <th>0</th>\n",
       "      <td>5a62c87e-44cc-430b-8dad-8bd0d73aead8</td>\n",
       "      <td>Test sequence 3 Human telomere repeat 9x</td>\n",
       "      <td>test</td>\n",
       "      <td>2020-08-30T18:12:26.651+0000</td>\n",
       "      <td>2020-08-30T18:12:26.744+0000</td>\n",
       "      <td>c690b94c-6b5b-4ce0-b4e6-ba59b3ffa525</td>\n",
       "      <td>1</td>\n",
       "      <td>1.2</td>\n",
       "      <td>19.607843</td>\n",
       "      <td>25</td>\n",
       "    </tr>\n",
       "  </tbody>\n",
       "</table>\n",
       "</div>"
      ],
      "text/plain": [
       "                                     id  \\\n",
       "0  5a62c87e-44cc-430b-8dad-8bd0d73aead8   \n",
       "\n",
       "                                      title  tags  \\\n",
       "0  Test sequence 3 Human telomere repeat 9x  test   \n",
       "\n",
       "                        created                      finished  \\\n",
       "0  2020-08-30T18:12:26.651+0000  2020-08-30T18:12:26.744+0000   \n",
       "\n",
       "                            sequence_id  result_count  threshold  frequency  \\\n",
       "0  c690b94c-6b5b-4ce0-b4e6-ba59b3ffa525             1        1.2  19.607843   \n",
       "\n",
       "   window_size  \n",
       "0           25  "
      ]
     },
     "execution_count": 4,
     "metadata": {},
     "output_type": "execute_result"
    }
   ],
   "source": [
    "API.g4hunter.load_all()"
   ]
  },
  {
   "cell_type": "code",
   "execution_count": 5,
   "metadata": {},
   "outputs": [
    {
     "data": {
      "text/html": [
       "<div>\n",
       "<style scoped>\n",
       "    .dataframe tbody tr th:only-of-type {\n",
       "        vertical-align: middle;\n",
       "    }\n",
       "\n",
       "    .dataframe tbody tr th {\n",
       "        vertical-align: top;\n",
       "    }\n",
       "\n",
       "    .dataframe thead th {\n",
       "        text-align: right;\n",
       "    }\n",
       "</style>\n",
       "<table border=\"1\" class=\"dataframe\">\n",
       "  <thead>\n",
       "    <tr style=\"text-align: right;\">\n",
       "      <th></th>\n",
       "      <th>id</th>\n",
       "      <th>title</th>\n",
       "      <th>tags</th>\n",
       "      <th>created</th>\n",
       "      <th>finished</th>\n",
       "      <th>sequence_id</th>\n",
       "      <th>result_count</th>\n",
       "      <th>threshold</th>\n",
       "      <th>frequency</th>\n",
       "      <th>window_size</th>\n",
       "    </tr>\n",
       "  </thead>\n",
       "  <tbody>\n",
       "    <tr>\n",
       "      <th>0</th>\n",
       "      <td>5a62c87e-44cc-430b-8dad-8bd0d73aead8</td>\n",
       "      <td>Test sequence 3 Human telomere repeat 9x</td>\n",
       "      <td>test</td>\n",
       "      <td>2020-08-30T18:12:26.651+0000</td>\n",
       "      <td>2020-08-30T18:12:26.744+0000</td>\n",
       "      <td>c690b94c-6b5b-4ce0-b4e6-ba59b3ffa525</td>\n",
       "      <td>1</td>\n",
       "      <td>1.2</td>\n",
       "      <td>19.607843</td>\n",
       "      <td>25</td>\n",
       "    </tr>\n",
       "  </tbody>\n",
       "</table>\n",
       "</div>"
      ],
      "text/plain": [
       "                                     id  \\\n",
       "0  5a62c87e-44cc-430b-8dad-8bd0d73aead8   \n",
       "\n",
       "                                      title  tags  \\\n",
       "0  Test sequence 3 Human telomere repeat 9x  test   \n",
       "\n",
       "                        created                      finished  \\\n",
       "0  2020-08-30T18:12:26.651+0000  2020-08-30T18:12:26.744+0000   \n",
       "\n",
       "                            sequence_id  result_count  threshold  frequency  \\\n",
       "0  c690b94c-6b5b-4ce0-b4e6-ba59b3ffa525             1        1.2  19.607843   \n",
       "\n",
       "   window_size  \n",
       "0           25  "
      ]
     },
     "execution_count": 5,
     "metadata": {},
     "output_type": "execute_result"
    }
   ],
   "source": [
    "API.g4hunter.load_by_id(id=API.g4hunter.load_all().iloc[0]['id'])"
   ]
  },
  {
   "cell_type": "code",
   "execution_count": 17,
   "metadata": {},
   "outputs": [
    {
     "name": "stdout",
     "output_type": "stream",
     "text": [
      "2020-08-30 19:54:53.804563 [INFO]: G4hunter analyse 0c6f1196-6d2c-4e98-a9bd-3aee16c76cc0 was deleted!\n"
     ]
    }
   ],
   "source": [
    "API.g4hunter.delete(analyse=API.g4hunter.load_all().iloc[0])"
   ]
  },
  {
   "cell_type": "code",
   "execution_count": 7,
   "metadata": {
    "scrolled": false
   },
   "outputs": [
    {
     "data": {
      "text/html": [
       "<div>\n",
       "<style scoped>\n",
       "    .dataframe tbody tr th:only-of-type {\n",
       "        vertical-align: middle;\n",
       "    }\n",
       "\n",
       "    .dataframe tbody tr th {\n",
       "        vertical-align: top;\n",
       "    }\n",
       "\n",
       "    .dataframe thead th {\n",
       "        text-align: right;\n",
       "    }\n",
       "</style>\n",
       "<table border=\"1\" class=\"dataframe\">\n",
       "  <thead>\n",
       "    <tr style=\"text-align: right;\">\n",
       "      <th></th>\n",
       "      <th>PQS_count</th>\n",
       "      <th>PQS_coverage</th>\n",
       "    </tr>\n",
       "  </thead>\n",
       "  <tbody>\n",
       "    <tr>\n",
       "      <th>0</th>\n",
       "      <td>1.0</td>\n",
       "      <td>1.5</td>\n",
       "    </tr>\n",
       "    <tr>\n",
       "      <th>1</th>\n",
       "      <td>0.0</td>\n",
       "      <td>1.0</td>\n",
       "    </tr>\n",
       "    <tr>\n",
       "      <th>2</th>\n",
       "      <td>0.0</td>\n",
       "      <td>1.0</td>\n",
       "    </tr>\n",
       "    <tr>\n",
       "      <th>3</th>\n",
       "      <td>0.0</td>\n",
       "      <td>1.0</td>\n",
       "    </tr>\n",
       "    <tr>\n",
       "      <th>4</th>\n",
       "      <td>0.0</td>\n",
       "      <td>1.0</td>\n",
       "    </tr>\n",
       "    <tr>\n",
       "      <th>5</th>\n",
       "      <td>0.0</td>\n",
       "      <td>1.0</td>\n",
       "    </tr>\n",
       "    <tr>\n",
       "      <th>6</th>\n",
       "      <td>0.0</td>\n",
       "      <td>1.0</td>\n",
       "    </tr>\n",
       "    <tr>\n",
       "      <th>7</th>\n",
       "      <td>0.0</td>\n",
       "      <td>1.0</td>\n",
       "    </tr>\n",
       "  </tbody>\n",
       "</table>\n",
       "</div>"
      ],
      "text/plain": [
       "   PQS_count  PQS_coverage\n",
       "0        1.0           1.5\n",
       "1        0.0           1.0\n",
       "2        0.0           1.0\n",
       "3        0.0           1.0\n",
       "4        0.0           1.0\n",
       "5        0.0           1.0\n",
       "6        0.0           1.0\n",
       "7        0.0           1.0"
      ]
     },
     "execution_count": 7,
     "metadata": {},
     "output_type": "execute_result"
    }
   ],
   "source": [
    "API.g4hunter.get_heatmap_data(analyse=API.g4hunter.load_all().iloc[0], segments=10)"
   ]
  },
  {
   "cell_type": "code",
   "execution_count": 9,
   "metadata": {},
   "outputs": [
    {
     "data": {
      "image/png": "[encoded data removed]",
      "text/plain": [
       "<Figure size 1008x576 with 1 Axes>"
      ]
     },
     "metadata": {
      "needs_background": "light"
     },
     "output_type": "display_data"
    }
   ],
   "source": [
    "API.g4hunter.show_heatmap(analyse=API.g4hunter.load_all().iloc[0], segments=32)"
   ]
  },
  {
   "cell_type": "code",
   "execution_count": 10,
   "metadata": {},
   "outputs": [
    {
     "data": {
      "text/html": [
       "<div>\n",
       "<style scoped>\n",
       "    .dataframe tbody tr th:only-of-type {\n",
       "        vertical-align: middle;\n",
       "    }\n",
       "\n",
       "    .dataframe tbody tr th {\n",
       "        vertical-align: top;\n",
       "    }\n",
       "\n",
       "    .dataframe thead th {\n",
       "        text-align: right;\n",
       "    }\n",
       "</style>\n",
       "<table border=\"1\" class=\"dataframe\">\n",
       "  <thead>\n",
       "    <tr style=\"text-align: right;\">\n",
       "      <th></th>\n",
       "      <th>id</th>\n",
       "      <th>position</th>\n",
       "      <th>length</th>\n",
       "      <th>score</th>\n",
       "      <th>absScore</th>\n",
       "      <th>sequence</th>\n",
       "      <th>subScoreList</th>\n",
       "    </tr>\n",
       "  </thead>\n",
       "  <tbody>\n",
       "    <tr>\n",
       "      <th>0</th>\n",
       "      <td>1</td>\n",
       "      <td>0</td>\n",
       "      <td>51</td>\n",
       "      <td>1.588235</td>\n",
       "      <td>1.588235</td>\n",
       "      <td>GGGTTAGGGTTAGGGTTAGGGTTAGGGTTAGGGTTAGGGTTAGGGT...</td>\n",
       "      <td>[1.56, 1.56, 1.56, 1.44, 1.44, 1.44, 1.56, 1.5...</td>\n",
       "    </tr>\n",
       "  </tbody>\n",
       "</table>\n",
       "</div>"
      ],
      "text/plain": [
       "   id  position  length     score  absScore  \\\n",
       "0   1         0      51  1.588235  1.588235   \n",
       "\n",
       "                                            sequence  \\\n",
       "0  GGGTTAGGGTTAGGGTTAGGGTTAGGGTTAGGGTTAGGGTTAGGGT...   \n",
       "\n",
       "                                        subScoreList  \n",
       "0  [1.56, 1.56, 1.56, 1.44, 1.44, 1.44, 1.56, 1.5...  "
      ]
     },
     "execution_count": 10,
     "metadata": {},
     "output_type": "execute_result"
    }
   ],
   "source": [
    "API.g4hunter.load_results(analyse=API.g4hunter.load_all().iloc[0])"
   ]
  },
  {
   "cell_type": "code",
   "execution_count": 11,
   "metadata": {},
   "outputs": [
    {
     "name": "stdout",
     "output_type": "stream",
     "text": [
      "2020-08-30 20:15:28.865639 [INFO]: file created -> ./Test_sequence_3_Human_telomere_repeat_9x_result.csv\n"
     ]
    }
   ],
   "source": [
    "API.g4hunter.export_csv(aggregate=True, analyse=API.g4hunter.load_all().iloc[0], path='./')"
   ]
  },
  {
   "cell_type": "markdown",
   "metadata": {},
   "source": [
    "### RLOOPR"
   ]
  },
  {
   "cell_type": "code",
   "execution_count": 3,
   "metadata": {},
   "outputs": [
    {
     "name": "stderr",
     "output_type": "stream",
     "text": [
      "Analysing sequence -> Test_sequence_1_G6C-4x: 100 % [00:01, 88.69 %/s]\n"
     ]
    }
   ],
   "source": [
    "API.rloopr.analyse_creator(\n",
    "    sequence=API.sequence.load_all().iloc[0],\n",
    "    tags=['test'],\n",
    "    riz_2g_cluster=False,\n",
    "    riz_3g_cluster=False\n",
    ")"
   ]
  },
  {
   "cell_type": "code",
   "execution_count": 8,
   "metadata": {},
   "outputs": [
    {
     "data": {
      "text/html": [
       "<div>\n",
       "<style scoped>\n",
       "    .dataframe tbody tr th:only-of-type {\n",
       "        vertical-align: middle;\n",
       "    }\n",
       "\n",
       "    .dataframe tbody tr th {\n",
       "        vertical-align: top;\n",
       "    }\n",
       "\n",
       "    .dataframe thead th {\n",
       "        text-align: right;\n",
       "    }\n",
       "</style>\n",
       "<table border=\"1\" class=\"dataframe\">\n",
       "  <thead>\n",
       "    <tr style=\"text-align: right;\">\n",
       "      <th></th>\n",
       "      <th>id</th>\n",
       "      <th>title</th>\n",
       "      <th>tags</th>\n",
       "      <th>created</th>\n",
       "      <th>finished</th>\n",
       "      <th>sequence_id</th>\n",
       "      <th>model</th>\n",
       "      <th>result_count</th>\n",
       "    </tr>\n",
       "  </thead>\n",
       "  <tbody>\n",
       "    <tr>\n",
       "      <th>0</th>\n",
       "      <td>308538b9-eae4-48c7-8897-d01b86508e41</td>\n",
       "      <td>TEST</td>\n",
       "      <td></td>\n",
       "      <td>2020-08-31T19:00:16.682+0000</td>\n",
       "      <td>2020-08-31T19:06:29.250+0000</td>\n",
       "      <td>bd38aa77-e3d8-4390-8fcc-9d1072bf06d8</td>\n",
       "      <td>0</td>\n",
       "      <td>13145</td>\n",
       "    </tr>\n",
       "    <tr>\n",
       "      <th>1</th>\n",
       "      <td>13e24c9a-87d6-4a04-ac3a-8c2896964cd9</td>\n",
       "      <td>test</td>\n",
       "      <td></td>\n",
       "      <td>2020-08-31T19:23:47.542+0000</td>\n",
       "      <td>2020-08-31T19:29:43.148+0000</td>\n",
       "      <td>39e33ab7-ecbe-4832-8294-bbfb608d09c9</td>\n",
       "      <td>0</td>\n",
       "      <td>13602</td>\n",
       "    </tr>\n",
       "  </tbody>\n",
       "</table>\n",
       "</div>"
      ],
      "text/plain": [
       "                                     id title tags  \\\n",
       "0  308538b9-eae4-48c7-8897-d01b86508e41  TEST        \n",
       "1  13e24c9a-87d6-4a04-ac3a-8c2896964cd9  test        \n",
       "\n",
       "                        created                      finished  \\\n",
       "0  2020-08-31T19:00:16.682+0000  2020-08-31T19:06:29.250+0000   \n",
       "1  2020-08-31T19:23:47.542+0000  2020-08-31T19:29:43.148+0000   \n",
       "\n",
       "                            sequence_id  model  result_count  \n",
       "0  bd38aa77-e3d8-4390-8fcc-9d1072bf06d8      0         13145  \n",
       "1  39e33ab7-ecbe-4832-8294-bbfb608d09c9      0         13602  "
      ]
     },
     "execution_count": 8,
     "metadata": {},
     "output_type": "execute_result"
    }
   ],
   "source": [
    "API.rloopr.load_all()"
   ]
  },
  {
   "cell_type": "code",
   "execution_count": 4,
   "metadata": {},
   "outputs": [
    {
     "data": {
      "text/html": [
       "<div>\n",
       "<style scoped>\n",
       "    .dataframe tbody tr th:only-of-type {\n",
       "        vertical-align: middle;\n",
       "    }\n",
       "\n",
       "    .dataframe tbody tr th {\n",
       "        vertical-align: top;\n",
       "    }\n",
       "\n",
       "    .dataframe thead th {\n",
       "        text-align: right;\n",
       "    }\n",
       "</style>\n",
       "<table border=\"1\" class=\"dataframe\">\n",
       "  <thead>\n",
       "    <tr style=\"text-align: right;\">\n",
       "      <th></th>\n",
       "      <th>id</th>\n",
       "      <th>title</th>\n",
       "      <th>tags</th>\n",
       "      <th>created</th>\n",
       "      <th>finished</th>\n",
       "      <th>sequence_id</th>\n",
       "      <th>model</th>\n",
       "      <th>result_count</th>\n",
       "    </tr>\n",
       "  </thead>\n",
       "  <tbody>\n",
       "    <tr>\n",
       "      <th>0</th>\n",
       "      <td>308538b9-eae4-48c7-8897-d01b86508e41</td>\n",
       "      <td>TEST</td>\n",
       "      <td></td>\n",
       "      <td>2020-08-31T19:00:16.682+0000</td>\n",
       "      <td>2020-08-31T19:06:29.250+0000</td>\n",
       "      <td>bd38aa77-e3d8-4390-8fcc-9d1072bf06d8</td>\n",
       "      <td>0</td>\n",
       "      <td>13145</td>\n",
       "    </tr>\n",
       "  </tbody>\n",
       "</table>\n",
       "</div>"
      ],
      "text/plain": [
       "                                     id title tags  \\\n",
       "0  308538b9-eae4-48c7-8897-d01b86508e41  TEST        \n",
       "\n",
       "                        created                      finished  \\\n",
       "0  2020-08-31T19:00:16.682+0000  2020-08-31T19:06:29.250+0000   \n",
       "\n",
       "                            sequence_id  model  result_count  \n",
       "0  bd38aa77-e3d8-4390-8fcc-9d1072bf06d8      0         13145  "
      ]
     },
     "execution_count": 4,
     "metadata": {},
     "output_type": "execute_result"
    }
   ],
   "source": [
    "API.rloopr.load_by_id(id=API.rloopr.load_all().iloc[0]['id'])"
   ]
  },
  {
   "cell_type": "code",
   "execution_count": 9,
   "metadata": {},
   "outputs": [
    {
     "name": "stdout",
     "output_type": "stream",
     "text": [
      "2020-08-31 21:32:28.094537 [INFO]: RLoopr analyse 308538b9-eae4-48c7-8897-d01b86508e41 was deleted!\n"
     ]
    }
   ],
   "source": [
    "API.rloopr.delete(analyse=API.rloopr.load_all().iloc[0])"
   ]
  },
  {
   "cell_type": "code",
   "execution_count": 10,
   "metadata": {},
   "outputs": [
    {
     "name": "stdout",
     "output_type": "stream",
     "text": [
      "2020-08-31 21:32:31.748691 [ERROR]: (404, 'Server error or returned no data')\n"
     ]
    }
   ],
   "source": [
    "API.rloopr.load_results(analyse=API.rloopr.load_all().iloc[0])"
   ]
  },
  {
   "cell_type": "code",
   "execution_count": 11,
   "metadata": {},
   "outputs": [
    {
     "name": "stdout",
     "output_type": "stream",
     "text": [
      "2020-08-31 21:32:56.740652 [INFO]: file created -> ./test_result.csv\n"
     ]
    }
   ],
   "source": [
    "API.rloopr.export_csv(analyse=API.rloopr.load_all(), path='./')"
   ]
  },
  {
   "cell_type": "code",
   "execution_count": null,
   "metadata": {},
   "outputs": [],
   "source": []
  }
 ],
 "metadata": {
  "kernelspec": {
   "display_name": "Python 3.6.9 64-bit ('DNA_analyser_IBP': pipenv)",
   "language": "python",
   "name": "python36964bitdnaanalyseribppipenv6db9551be6d548f596c781fc7f26d5b5"
  },
  "language_info": {
   "codemirror_mode": {
    "name": "ipython",
    "version": 3
   },
   "file_extension": ".py",
   "mimetype": "text/x-python",
   "name": "python",
   "nbconvert_exporter": "python",
   "pygments_lexer": "ipython3",
   "version": "3.6.9"
  }
 },
 "nbformat": 4,
 "nbformat_minor": 4
}
