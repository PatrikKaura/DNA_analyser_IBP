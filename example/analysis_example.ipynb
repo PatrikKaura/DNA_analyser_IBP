{
 "cells": [
  {
   "cell_type": "markdown",
   "metadata": {},
   "source": [
    "## G4HUNTER (COMPLETE ANALYSIS)"
   ]
  },
  {
   "cell_type": "code",
   "execution_count": 1,
   "metadata": {},
   "outputs": [],
   "source": [
    "from DNA_analyser_IBP import Api"
   ]
  },
  {
   "cell_type": "code",
   "execution_count": 2,
   "metadata": {},
   "outputs": [
    {
     "name": "stdout",
     "output_type": "stream",
     "text": [
      "Enter your email\t\n",
      "Enter your password\t········\n",
      "2020-04-09 21:09:09.440444 [INFO]: User host is trying to login ...\n",
      "2020-04-09 21:09:09.642275 [INFO]: User host logged in!\n"
     ]
    }
   ],
   "source": [
    "API = Api()"
   ]
  },
  {
   "cell_type": "markdown",
   "metadata": {},
   "source": [
    "### OPEN EXAMPLE CSV FILE"
   ]
  },
  {
   "cell_type": "code",
   "execution_count": 3,
   "metadata": {},
   "outputs": [],
   "source": [
    "import csv # import python csv library"
   ]
  },
  {
   "cell_type": "code",
   "execution_count": 4,
   "metadata": {
    "scrolled": true
   },
   "outputs": [
    {
     "name": "stdout",
     "output_type": "stream",
     "text": [
      "['melanogaster_1', 'melanogaster', 'NC_004354.4']\n",
      "['melanogaster_2', 'melanogaster', 'NT_033779.5']\n",
      "['melanogaster_3', 'melanogaster', 'NT_033778.4']\n",
      "['melanogaster_4', 'melanogaster', 'NT_037436.4']\n",
      "['melanogaster_5', 'melanogaster', 'NC_004353.4']\n"
     ]
    }
   ],
   "source": [
    "with open('/home/patrikkaura/Git/DNA_analyser_IBP/example/example_genomes.csv', 'r') as file:\n",
    "    reader = csv.reader(file, delimiter=',') # init csv reader\n",
    "    next(reader)                             # skip first csv row (if contains header)\n",
    "    for row in reader:                       # iterate through all rows of csv file\n",
    "        print(row)            # csv rows -> hopefully you'll see somethink like this :)"
   ]
  },
  {
   "cell_type": "markdown",
   "metadata": {},
   "source": [
    "### UPLOAD SEQUENCES INTO SERVER"
   ]
  },
  {
   "cell_type": "code",
   "execution_count": 5,
   "metadata": {
    "scrolled": true
   },
   "outputs": [
    {
     "name": "stderr",
     "output_type": "stream",
     "text": [
      "Uploading sequence melanogaster_1: 100 % uploaded [00:24,  4.02 % uploaded/s]\n",
      "Uploading sequence melanogaster_2: 100 % uploaded [00:24,  4.06 % uploaded/s]\n",
      "Uploading sequence melanogaster_3: 100 % uploaded [00:25,  3.99 % uploaded/s]\n",
      "Uploading sequence melanogaster_4: 100 % uploaded [00:24,  4.03 % uploaded/s]\n",
      "Uploading sequence melanogaster_5: 100 % uploaded [00:24,  4.11 % uploaded/s]\n"
     ]
    }
   ],
   "source": [
    "# now same code but ... we have to upload them into server\n",
    "\n",
    "# we have to index through list from csv like this ... :)\n",
    "# ['melanogaster_1', 'melanogaster', 'NC_004354.4']\n",
    "# row[0] -> melanogaster_1 (name) row[1] -> melanogaster (tag) row[2] -> NC_004354.4 (ncbi_id)\n",
    "\n",
    "with open('/home/patrikkaura/Git/DNA_analyser_IBP/example/example_genomes.csv', 'r') as file:\n",
    "    reader = csv.reader(file, delimiter=',')\n",
    "    next(reader)                             \n",
    "    for row in reader:                       \n",
    "        API.sequence.ncbi_creator(\n",
    "            name=row[0],\n",
    "            circular=True,\n",
    "            ncbi_id=row[2],\n",
    "            tags=[row[1], 'some_test_tag_if_you_want'],\n",
    "        )"
   ]
  },
  {
   "cell_type": "code",
   "execution_count": 6,
   "metadata": {
    "scrolled": false
   },
   "outputs": [
    {
     "data": {
      "text/html": [
       "<div>\n",
       "<style scoped>\n",
       "    .dataframe tbody tr th:only-of-type {\n",
       "        vertical-align: middle;\n",
       "    }\n",
       "\n",
       "    .dataframe tbody tr th {\n",
       "        vertical-align: top;\n",
       "    }\n",
       "\n",
       "    .dataframe thead th {\n",
       "        text-align: right;\n",
       "    }\n",
       "</style>\n",
       "<table border=\"1\" class=\"dataframe\">\n",
       "  <thead>\n",
       "    <tr style=\"text-align: right;\">\n",
       "      <th></th>\n",
       "      <th>id</th>\n",
       "      <th>name</th>\n",
       "      <th>created</th>\n",
       "      <th>type</th>\n",
       "      <th>circular</th>\n",
       "      <th>length</th>\n",
       "      <th>ncbi</th>\n",
       "      <th>tags</th>\n",
       "      <th>fasta_comment</th>\n",
       "      <th>gc_count</th>\n",
       "      <th>nucleic_count</th>\n",
       "    </tr>\n",
       "  </thead>\n",
       "  <tbody>\n",
       "    <tr>\n",
       "      <th>0</th>\n",
       "      <td>f78bf0ee-0e42-4e10-97e0-ca423fba0953</td>\n",
       "      <td>melanogaster_1</td>\n",
       "      <td>2020-04-09T19:09:34.288+0000</td>\n",
       "      <td>DNA</td>\n",
       "      <td>True</td>\n",
       "      <td>23542271</td>\n",
       "      <td>NC_004354.4</td>\n",
       "      <td>some_test_tag_if_you_want, melanogaster</td>\n",
       "      <td>None</td>\n",
       "      <td>None</td>\n",
       "      <td>None</td>\n",
       "    </tr>\n",
       "    <tr>\n",
       "      <th>1</th>\n",
       "      <td>f1952cb4-2f35-468b-a550-bbaa36eb70ef</td>\n",
       "      <td>melanogaster_2</td>\n",
       "      <td>2020-04-09T19:09:58.917+0000</td>\n",
       "      <td>DNA</td>\n",
       "      <td>True</td>\n",
       "      <td>23513712</td>\n",
       "      <td>NT_033779.5</td>\n",
       "      <td>some_test_tag_if_you_want, melanogaster</td>\n",
       "      <td>None</td>\n",
       "      <td>None</td>\n",
       "      <td>None</td>\n",
       "    </tr>\n",
       "    <tr>\n",
       "      <th>2</th>\n",
       "      <td>35159c19-0c53-4496-baef-c7a963733f60</td>\n",
       "      <td>melanogaster_3</td>\n",
       "      <td>2020-04-09T19:10:23.990+0000</td>\n",
       "      <td>DNA</td>\n",
       "      <td>True</td>\n",
       "      <td>25286936</td>\n",
       "      <td>NT_033778.4</td>\n",
       "      <td>some_test_tag_if_you_want, melanogaster</td>\n",
       "      <td>None</td>\n",
       "      <td>None</td>\n",
       "      <td>None</td>\n",
       "    </tr>\n",
       "    <tr>\n",
       "      <th>3</th>\n",
       "      <td>fb346b20-5641-40c3-9f13-42d649ee0145</td>\n",
       "      <td>melanogaster_4</td>\n",
       "      <td>2020-04-09T19:10:48.863+0000</td>\n",
       "      <td>DNA</td>\n",
       "      <td>True</td>\n",
       "      <td>28110227</td>\n",
       "      <td>NT_037436.4</td>\n",
       "      <td>some_test_tag_if_you_want, melanogaster</td>\n",
       "      <td>None</td>\n",
       "      <td>None</td>\n",
       "      <td>None</td>\n",
       "    </tr>\n",
       "    <tr>\n",
       "      <th>4</th>\n",
       "      <td>a5e17f92-3832-40dd-8717-dff7477fa2ce</td>\n",
       "      <td>melanogaster_5</td>\n",
       "      <td>2020-04-09T19:11:13.170+0000</td>\n",
       "      <td>DNA</td>\n",
       "      <td>True</td>\n",
       "      <td>1348131</td>\n",
       "      <td>NC_004353.4</td>\n",
       "      <td>some_test_tag_if_you_want, melanogaster</td>\n",
       "      <td>None</td>\n",
       "      <td>None</td>\n",
       "      <td>None</td>\n",
       "    </tr>\n",
       "  </tbody>\n",
       "</table>\n",
       "</div>"
      ],
      "text/plain": [
       "                                     id            name  \\\n",
       "0  f78bf0ee-0e42-4e10-97e0-ca423fba0953  melanogaster_1   \n",
       "1  f1952cb4-2f35-468b-a550-bbaa36eb70ef  melanogaster_2   \n",
       "2  35159c19-0c53-4496-baef-c7a963733f60  melanogaster_3   \n",
       "3  fb346b20-5641-40c3-9f13-42d649ee0145  melanogaster_4   \n",
       "4  a5e17f92-3832-40dd-8717-dff7477fa2ce  melanogaster_5   \n",
       "\n",
       "                        created type  circular    length         ncbi  \\\n",
       "0  2020-04-09T19:09:34.288+0000  DNA      True  23542271  NC_004354.4   \n",
       "1  2020-04-09T19:09:58.917+0000  DNA      True  23513712  NT_033779.5   \n",
       "2  2020-04-09T19:10:23.990+0000  DNA      True  25286936  NT_033778.4   \n",
       "3  2020-04-09T19:10:48.863+0000  DNA      True  28110227  NT_037436.4   \n",
       "4  2020-04-09T19:11:13.170+0000  DNA      True   1348131  NC_004353.4   \n",
       "\n",
       "                                      tags fasta_comment gc_count  \\\n",
       "0  some_test_tag_if_you_want, melanogaster          None     None   \n",
       "1  some_test_tag_if_you_want, melanogaster          None     None   \n",
       "2  some_test_tag_if_you_want, melanogaster          None     None   \n",
       "3  some_test_tag_if_you_want, melanogaster          None     None   \n",
       "4  some_test_tag_if_you_want, melanogaster          None     None   \n",
       "\n",
       "  nucleic_count  \n",
       "0          None  \n",
       "1          None  \n",
       "2          None  \n",
       "3          None  \n",
       "4          None  "
      ]
     },
     "execution_count": 6,
     "metadata": {},
     "output_type": "execute_result"
    }
   ],
   "source": [
    "# now we can see if they are all uploaded\n",
    "API.sequence.load_all(tags=['melanogaster'])"
   ]
  },
  {
   "cell_type": "code",
   "execution_count": 7,
   "metadata": {
    "scrolled": true
   },
   "outputs": [
    {
     "name": "stdout",
     "output_type": "stream",
     "text": [
      "2020-04-09 21:11:14.621084 [INFO]: Sequence f78bf0ee-0e42-4e10-97e0-ca423fba0953 nucleotides was re-counted!\n",
      "2020-04-09 21:11:15.497705 [INFO]: Sequence f1952cb4-2f35-468b-a550-bbaa36eb70ef nucleotides was re-counted!\n",
      "2020-04-09 21:11:16.383232 [INFO]: Sequence 35159c19-0c53-4496-baef-c7a963733f60 nucleotides was re-counted!\n",
      "2020-04-09 21:11:17.385130 [INFO]: Sequence fb346b20-5641-40c3-9f13-42d649ee0145 nucleotides was re-counted!\n",
      "2020-04-09 21:11:17.504721 [INFO]: Sequence a5e17f92-3832-40dd-8717-dff7477fa2ce nucleotides was re-counted!\n"
     ]
    }
   ],
   "source": [
    "# well it looks great! but ... we are missing nucleic count thanks to server bug ...\n",
    "# so lets recalculate them\n",
    "\n",
    "sequences = API.sequence.load_all(tags=['melanogaster']) # lets save sequence table into variable\n",
    "API.sequence.nucleic_count(sequence=sequences) # and put it as function parameter"
   ]
  },
  {
   "cell_type": "code",
   "execution_count": 8,
   "metadata": {
    "scrolled": false
   },
   "outputs": [
    {
     "data": {
      "text/html": [
       "<div>\n",
       "<style scoped>\n",
       "    .dataframe tbody tr th:only-of-type {\n",
       "        vertical-align: middle;\n",
       "    }\n",
       "\n",
       "    .dataframe tbody tr th {\n",
       "        vertical-align: top;\n",
       "    }\n",
       "\n",
       "    .dataframe thead th {\n",
       "        text-align: right;\n",
       "    }\n",
       "</style>\n",
       "<table border=\"1\" class=\"dataframe\">\n",
       "  <thead>\n",
       "    <tr style=\"text-align: right;\">\n",
       "      <th></th>\n",
       "      <th>id</th>\n",
       "      <th>name</th>\n",
       "      <th>created</th>\n",
       "      <th>type</th>\n",
       "      <th>circular</th>\n",
       "      <th>length</th>\n",
       "      <th>ncbi</th>\n",
       "      <th>tags</th>\n",
       "      <th>fasta_comment</th>\n",
       "      <th>gc_count</th>\n",
       "      <th>nucleic_count</th>\n",
       "    </tr>\n",
       "  </thead>\n",
       "  <tbody>\n",
       "    <tr>\n",
       "      <th>0</th>\n",
       "      <td>f78bf0ee-0e42-4e10-97e0-ca423fba0953</td>\n",
       "      <td>melanogaster_1</td>\n",
       "      <td>2020-04-09T19:09:34.288+0000</td>\n",
       "      <td>DNA</td>\n",
       "      <td>True</td>\n",
       "      <td>23542271</td>\n",
       "      <td>NC_004354.4</td>\n",
       "      <td>some_test_tag_if_you_want, melanogaster</td>\n",
       "      <td>None</td>\n",
       "      <td>9968592</td>\n",
       "      <td>{'A': 6732793, 'N': 66120, 'T': 6774766, 'G': ...</td>\n",
       "    </tr>\n",
       "    <tr>\n",
       "      <th>1</th>\n",
       "      <td>f1952cb4-2f35-468b-a550-bbaa36eb70ef</td>\n",
       "      <td>melanogaster_2</td>\n",
       "      <td>2020-04-09T19:09:58.917+0000</td>\n",
       "      <td>DNA</td>\n",
       "      <td>True</td>\n",
       "      <td>23513712</td>\n",
       "      <td>NT_033779.5</td>\n",
       "      <td>some_test_tag_if_you_want, melanogaster</td>\n",
       "      <td>None</td>\n",
       "      <td>9824400</td>\n",
       "      <td>{'A': 6853032, 'N': 200, 'T': 6836080, 'G': 49...</td>\n",
       "    </tr>\n",
       "    <tr>\n",
       "      <th>2</th>\n",
       "      <td>35159c19-0c53-4496-baef-c7a963733f60</td>\n",
       "      <td>melanogaster_3</td>\n",
       "      <td>2020-04-09T19:10:23.990+0000</td>\n",
       "      <td>DNA</td>\n",
       "      <td>True</td>\n",
       "      <td>25286936</td>\n",
       "      <td>NT_033778.4</td>\n",
       "      <td>some_test_tag_if_you_want, melanogaster</td>\n",
       "      <td>None</td>\n",
       "      <td>10771814</td>\n",
       "      <td>{'A': 7272860, 'N': 6700, 'T': 7235562, 'G': 5...</td>\n",
       "    </tr>\n",
       "    <tr>\n",
       "      <th>3</th>\n",
       "      <td>fb346b20-5641-40c3-9f13-42d649ee0145</td>\n",
       "      <td>melanogaster_4</td>\n",
       "      <td>2020-04-09T19:10:48.863+0000</td>\n",
       "      <td>DNA</td>\n",
       "      <td>True</td>\n",
       "      <td>28110227</td>\n",
       "      <td>NT_037436.4</td>\n",
       "      <td>some_test_tag_if_you_want, melanogaster</td>\n",
       "      <td>None</td>\n",
       "      <td>11650188</td>\n",
       "      <td>{'A': 8143548, 'N': 118160, 'T': 8198331, 'G':...</td>\n",
       "    </tr>\n",
       "    <tr>\n",
       "      <th>4</th>\n",
       "      <td>a5e17f92-3832-40dd-8717-dff7477fa2ce</td>\n",
       "      <td>melanogaster_5</td>\n",
       "      <td>2020-04-09T19:11:13.170+0000</td>\n",
       "      <td>DNA</td>\n",
       "      <td>True</td>\n",
       "      <td>1348131</td>\n",
       "      <td>NC_004353.4</td>\n",
       "      <td>some_test_tag_if_you_want, melanogaster</td>\n",
       "      <td>None</td>\n",
       "      <td>469221</td>\n",
       "      <td>{'A': 425241, 'N': 17000, 'T': 436669, 'G': 23...</td>\n",
       "    </tr>\n",
       "  </tbody>\n",
       "</table>\n",
       "</div>"
      ],
      "text/plain": [
       "                                     id            name  \\\n",
       "0  f78bf0ee-0e42-4e10-97e0-ca423fba0953  melanogaster_1   \n",
       "1  f1952cb4-2f35-468b-a550-bbaa36eb70ef  melanogaster_2   \n",
       "2  35159c19-0c53-4496-baef-c7a963733f60  melanogaster_3   \n",
       "3  fb346b20-5641-40c3-9f13-42d649ee0145  melanogaster_4   \n",
       "4  a5e17f92-3832-40dd-8717-dff7477fa2ce  melanogaster_5   \n",
       "\n",
       "                        created type  circular    length         ncbi  \\\n",
       "0  2020-04-09T19:09:34.288+0000  DNA      True  23542271  NC_004354.4   \n",
       "1  2020-04-09T19:09:58.917+0000  DNA      True  23513712  NT_033779.5   \n",
       "2  2020-04-09T19:10:23.990+0000  DNA      True  25286936  NT_033778.4   \n",
       "3  2020-04-09T19:10:48.863+0000  DNA      True  28110227  NT_037436.4   \n",
       "4  2020-04-09T19:11:13.170+0000  DNA      True   1348131  NC_004353.4   \n",
       "\n",
       "                                      tags fasta_comment  gc_count  \\\n",
       "0  some_test_tag_if_you_want, melanogaster          None   9968592   \n",
       "1  some_test_tag_if_you_want, melanogaster          None   9824400   \n",
       "2  some_test_tag_if_you_want, melanogaster          None  10771814   \n",
       "3  some_test_tag_if_you_want, melanogaster          None  11650188   \n",
       "4  some_test_tag_if_you_want, melanogaster          None    469221   \n",
       "\n",
       "                                       nucleic_count  \n",
       "0  {'A': 6732793, 'N': 66120, 'T': 6774766, 'G': ...  \n",
       "1  {'A': 6853032, 'N': 200, 'T': 6836080, 'G': 49...  \n",
       "2  {'A': 7272860, 'N': 6700, 'T': 7235562, 'G': 5...  \n",
       "3  {'A': 8143548, 'N': 118160, 'T': 8198331, 'G':...  \n",
       "4  {'A': 425241, 'N': 17000, 'T': 436669, 'G': 23...  "
      ]
     },
     "execution_count": 8,
     "metadata": {},
     "output_type": "execute_result"
    }
   ],
   "source": [
    "API.sequence.load_all(tags=['melanogaster']) # not its perfect ! :)"
   ]
  },
  {
   "cell_type": "markdown",
   "metadata": {},
   "source": [
    "### RUN G4HUNTER"
   ]
  },
  {
   "cell_type": "code",
   "execution_count": 9,
   "metadata": {},
   "outputs": [],
   "source": [
    "# once again save table with sequences into variable\n",
    "sequences = API.sequence.load_all(tags=['melanogaster'])"
   ]
  },
  {
   "cell_type": "code",
   "execution_count": 10,
   "metadata": {},
   "outputs": [
    {
     "name": "stderr",
     "output_type": "stream",
     "text": [
      "Analysing sequence melanogaster_1: 100 % processed [00:11,  8.54 % processed/s]\n",
      "Analysing sequence melanogaster_2: 100 % processed [00:08, 11.82 % processed/s]\n",
      "Analysing sequence melanogaster_3: 100 % processed [00:09, 10.52 % processed/s]\n",
      "Analysing sequence melanogaster_4: 100 % processed [00:10,  9.52 % processed/s]\n",
      "Analysing sequence melanogaster_5: 100 % processed [00:02, 45.67 % processed/s]\n"
     ]
    }
   ],
   "source": [
    "# and now run G4hunter!!!\n",
    "\n",
    "# in this command you can specify your own tags or if you leave it empty then it\n",
    "# automaticaly copies them from given sequence\n",
    "\n",
    "API.g4hunter.analyse_creator(\n",
    "    threshold=1.2,\n",
    "    window_size=25,\n",
    "    sequence=sequences,\n",
    ")"
   ]
  },
  {
   "cell_type": "code",
   "execution_count": 11,
   "metadata": {},
   "outputs": [
    {
     "data": {
      "text/html": [
       "<div>\n",
       "<style scoped>\n",
       "    .dataframe tbody tr th:only-of-type {\n",
       "        vertical-align: middle;\n",
       "    }\n",
       "\n",
       "    .dataframe tbody tr th {\n",
       "        vertical-align: top;\n",
       "    }\n",
       "\n",
       "    .dataframe thead th {\n",
       "        text-align: right;\n",
       "    }\n",
       "</style>\n",
       "<table border=\"1\" class=\"dataframe\">\n",
       "  <thead>\n",
       "    <tr style=\"text-align: right;\">\n",
       "      <th></th>\n",
       "      <th>id</th>\n",
       "      <th>created</th>\n",
       "      <th>tags</th>\n",
       "      <th>finished</th>\n",
       "      <th>title</th>\n",
       "      <th>sequence_id</th>\n",
       "      <th>result_count</th>\n",
       "      <th>window_size</th>\n",
       "      <th>threshold</th>\n",
       "      <th>frequency</th>\n",
       "    </tr>\n",
       "  </thead>\n",
       "  <tbody>\n",
       "    <tr>\n",
       "      <th>0</th>\n",
       "      <td>56a6841e-42bb-4809-99bb-80abc348fdba</td>\n",
       "      <td>2020-04-09T19:11:17.579+0000</td>\n",
       "      <td>some_test_tag_if_you_want, melanogaster</td>\n",
       "      <td>2020-04-09T19:11:28.737+0000</td>\n",
       "      <td>melanogaster_1</td>\n",
       "      <td>f78bf0ee-0e42-4e10-97e0-ca423fba0953</td>\n",
       "      <td>37592</td>\n",
       "      <td>25</td>\n",
       "      <td>1.2</td>\n",
       "      <td>1.596787</td>\n",
       "    </tr>\n",
       "    <tr>\n",
       "      <th>1</th>\n",
       "      <td>75755974-2997-4ffb-b517-49617ebf8d2b</td>\n",
       "      <td>2020-04-09T19:11:29.389+0000</td>\n",
       "      <td>some_test_tag_if_you_want, melanogaster</td>\n",
       "      <td>2020-04-09T19:11:37.398+0000</td>\n",
       "      <td>melanogaster_2</td>\n",
       "      <td>f1952cb4-2f35-468b-a550-bbaa36eb70ef</td>\n",
       "      <td>28639</td>\n",
       "      <td>25</td>\n",
       "      <td>1.2</td>\n",
       "      <td>1.217970</td>\n",
       "    </tr>\n",
       "    <tr>\n",
       "      <th>2</th>\n",
       "      <td>a803a039-2214-48cd-8354-e748f18cd7ae</td>\n",
       "      <td>2020-04-09T19:11:37.751+0000</td>\n",
       "      <td>some_test_tag_if_you_want, melanogaster</td>\n",
       "      <td>2020-04-09T19:11:45.904+0000</td>\n",
       "      <td>melanogaster_3</td>\n",
       "      <td>35159c19-0c53-4496-baef-c7a963733f60</td>\n",
       "      <td>29934</td>\n",
       "      <td>25</td>\n",
       "      <td>1.2</td>\n",
       "      <td>1.183773</td>\n",
       "    </tr>\n",
       "    <tr>\n",
       "      <th>3</th>\n",
       "      <td>6e3ef62e-58fd-43a0-a73f-4847a18b76bf</td>\n",
       "      <td>2020-04-09T19:11:47.292+0000</td>\n",
       "      <td>some_test_tag_if_you_want, melanogaster</td>\n",
       "      <td>2020-04-09T19:11:56.628+0000</td>\n",
       "      <td>melanogaster_4</td>\n",
       "      <td>fb346b20-5641-40c3-9f13-42d649ee0145</td>\n",
       "      <td>33439</td>\n",
       "      <td>25</td>\n",
       "      <td>1.2</td>\n",
       "      <td>1.189567</td>\n",
       "    </tr>\n",
       "    <tr>\n",
       "      <th>4</th>\n",
       "      <td>e8ae2d5a-3652-42cc-b685-ff58c99b42a0</td>\n",
       "      <td>2020-04-09T19:11:57.805+0000</td>\n",
       "      <td>some_test_tag_if_you_want, melanogaster</td>\n",
       "      <td>2020-04-09T19:11:58.888+0000</td>\n",
       "      <td>melanogaster_5</td>\n",
       "      <td>a5e17f92-3832-40dd-8717-dff7477fa2ce</td>\n",
       "      <td>560</td>\n",
       "      <td>25</td>\n",
       "      <td>1.2</td>\n",
       "      <td>0.415390</td>\n",
       "    </tr>\n",
       "  </tbody>\n",
       "</table>\n",
       "</div>"
      ],
      "text/plain": [
       "                                     id                       created  \\\n",
       "0  56a6841e-42bb-4809-99bb-80abc348fdba  2020-04-09T19:11:17.579+0000   \n",
       "1  75755974-2997-4ffb-b517-49617ebf8d2b  2020-04-09T19:11:29.389+0000   \n",
       "2  a803a039-2214-48cd-8354-e748f18cd7ae  2020-04-09T19:11:37.751+0000   \n",
       "3  6e3ef62e-58fd-43a0-a73f-4847a18b76bf  2020-04-09T19:11:47.292+0000   \n",
       "4  e8ae2d5a-3652-42cc-b685-ff58c99b42a0  2020-04-09T19:11:57.805+0000   \n",
       "\n",
       "                                      tags                      finished  \\\n",
       "0  some_test_tag_if_you_want, melanogaster  2020-04-09T19:11:28.737+0000   \n",
       "1  some_test_tag_if_you_want, melanogaster  2020-04-09T19:11:37.398+0000   \n",
       "2  some_test_tag_if_you_want, melanogaster  2020-04-09T19:11:45.904+0000   \n",
       "3  some_test_tag_if_you_want, melanogaster  2020-04-09T19:11:56.628+0000   \n",
       "4  some_test_tag_if_you_want, melanogaster  2020-04-09T19:11:58.888+0000   \n",
       "\n",
       "            title                           sequence_id  result_count  \\\n",
       "0  melanogaster_1  f78bf0ee-0e42-4e10-97e0-ca423fba0953         37592   \n",
       "1  melanogaster_2  f1952cb4-2f35-468b-a550-bbaa36eb70ef         28639   \n",
       "2  melanogaster_3  35159c19-0c53-4496-baef-c7a963733f60         29934   \n",
       "3  melanogaster_4  fb346b20-5641-40c3-9f13-42d649ee0145         33439   \n",
       "4  melanogaster_5  a5e17f92-3832-40dd-8717-dff7477fa2ce           560   \n",
       "\n",
       "   window_size  threshold  frequency  \n",
       "0           25        1.2   1.596787  \n",
       "1           25        1.2   1.217970  \n",
       "2           25        1.2   1.183773  \n",
       "3           25        1.2   1.189567  \n",
       "4           25        1.2   0.415390  "
      ]
     },
     "execution_count": 11,
     "metadata": {},
     "output_type": "execute_result"
    }
   ],
   "source": [
    "# well it looks analysed :D ... is it???\n",
    "API.g4hunter.load_all(tags=['melanogaster'])"
   ]
  },
  {
   "cell_type": "code",
   "execution_count": 12,
   "metadata": {},
   "outputs": [],
   "source": [
    "# now lets download the results ... :)"
   ]
  },
  {
   "cell_type": "code",
   "execution_count": 13,
   "metadata": {},
   "outputs": [
    {
     "name": "stdout",
     "output_type": "stream",
     "text": [
      "2020-04-09 21:12:01.313185 [INFO]: file created -> /home/patrikkaura/Git/DNA_analyser_IBP/example/g4_results/melanogaster_1_result.csv\n",
      "2020-04-09 21:12:02.272609 [INFO]: file created -> /home/patrikkaura/Git/DNA_analyser_IBP/example/g4_results/melanogaster_2_result.csv\n",
      "2020-04-09 21:12:03.207556 [INFO]: file created -> /home/patrikkaura/Git/DNA_analyser_IBP/example/g4_results/melanogaster_3_result.csv\n",
      "2020-04-09 21:12:04.299463 [INFO]: file created -> /home/patrikkaura/Git/DNA_analyser_IBP/example/g4_results/melanogaster_4_result.csv\n",
      "2020-04-09 21:12:04.921662 [INFO]: file created -> /home/patrikkaura/Git/DNA_analyser_IBP/example/g4_results/melanogaster_5_result.csv\n"
     ]
    }
   ],
   "source": [
    "results = API.g4hunter.load_all(tags=['melanogaster']) # again save table into variable\n",
    "\n",
    "# and download results as csv files :)\n",
    "API.g4hunter.export_csv(\n",
    "    aggregate=True,\n",
    "    analyse=results,\n",
    "    path='/home/patrikkaura/Git/DNA_analyser_IBP/example/g4_results'\n",
    ")"
   ]
  },
  {
   "cell_type": "markdown",
   "metadata": {},
   "source": [
    "### LETS DOWNLOAD AND PARSE ANNOTATIONS"
   ]
  },
  {
   "cell_type": "code",
   "execution_count": 14,
   "metadata": {
    "scrolled": true
   },
   "outputs": [
    {
     "name": "stdout",
     "output_type": "stream",
     "text": [
      "2020-04-09 21:12:04.937445 [INFO]: Annotation NC_004354.4 is being downloaded!\n",
      "2020-04-09 21:12:52.178694 [INFO]: Annotation file [melanogaster_1.txt] is created!\n",
      "2020-04-09 21:12:52.180691 [INFO]: Annotation NT_033779.5 is being downloaded!\n",
      "2020-04-09 21:13:49.404546 [INFO]: Annotation file [melanogaster_2.txt] is created!\n",
      "2020-04-09 21:13:49.405521 [INFO]: Annotation NT_033778.4 is being downloaded!\n",
      "2020-04-09 21:14:47.058012 [INFO]: Annotation file [melanogaster_3.txt] is created!\n",
      "2020-04-09 21:14:47.059093 [INFO]: Annotation NT_037436.4 is being downloaded!\n",
      "2020-04-09 21:15:42.021927 [INFO]: Annotation file [melanogaster_4.txt] is created!\n",
      "2020-04-09 21:15:42.023892 [INFO]: Annotation NC_004353.4 is being downloaded!\n",
      "2020-04-09 21:15:45.139437 [INFO]: Annotation file [melanogaster_5.txt] is created!\n"
     ]
    }
   ],
   "source": [
    "# lets use the same CSV file which can provide NCBI_ID and name\n",
    "# you have to also provide path where you want to save annotation files :)\n",
    "\n",
    "with open('/home/patrikkaura/Git/DNA_analyser_IBP/example/example_genomes.csv', 'r') as file:\n",
    "    reader = csv.reader(file, delimiter=',')\n",
    "    next(reader)                             \n",
    "    for row in reader: \n",
    "        API.tools.annotation_downloader(\n",
    "            ncbi_id=row[2],\n",
    "            filename=row[0],\n",
    "            path='/home/patrikkaura/Git/DNA_analyser_IBP/example/annotations'\n",
    "        )"
   ]
  },
  {
   "cell_type": "code",
   "execution_count": 15,
   "metadata": {},
   "outputs": [],
   "source": [
    "# if you want to make an overlay analysis you have to convert these files into\n",
    "# parsed form lets find our downloaded files ...\n",
    "\n",
    "import glob # now we import library which find files on disk :)"
   ]
  },
  {
   "cell_type": "code",
   "execution_count": 16,
   "metadata": {},
   "outputs": [],
   "source": [
    "annotations = glob.glob('/home/patrikkaura/Git/DNA_analyser_IBP/example/annotations/*.txt')"
   ]
  },
  {
   "cell_type": "code",
   "execution_count": 17,
   "metadata": {},
   "outputs": [
    {
     "data": {
      "text/plain": [
       "['/home/patrikkaura/Git/DNA_analyser_IBP/example/annotations/melanogaster_2.txt',\n",
       " '/home/patrikkaura/Git/DNA_analyser_IBP/example/annotations/melanogaster_5.txt',\n",
       " '/home/patrikkaura/Git/DNA_analyser_IBP/example/annotations/melanogaster_4.txt',\n",
       " '/home/patrikkaura/Git/DNA_analyser_IBP/example/annotations/melanogaster_1.txt',\n",
       " '/home/patrikkaura/Git/DNA_analyser_IBP/example/annotations/melanogaster_3.txt']"
      ]
     },
     "execution_count": 17,
     "metadata": {},
     "output_type": "execute_result"
    }
   ],
   "source": [
    "annotations # here they are !"
   ]
  },
  {
   "cell_type": "code",
   "execution_count": 18,
   "metadata": {},
   "outputs": [
    {
     "name": "stdout",
     "output_type": "stream",
     "text": [
      "2020-04-09 21:15:45.605287 [INFO]: Parsed annotation file $/home/patrikkaura/Git/DNA_analyser_IBP/example/annotations_parsed/melanogaster_2.csv  saved! \n",
      "2020-04-09 21:15:45.898979 [INFO]: Parsed annotation file $/home/patrikkaura/Git/DNA_analyser_IBP/example/annotations_parsed/melanogaster_5.csv  saved! \n",
      "2020-04-09 21:15:46.356161 [INFO]: Parsed annotation file $/home/patrikkaura/Git/DNA_analyser_IBP/example/annotations_parsed/melanogaster_4.csv  saved! \n",
      "2020-04-09 21:15:47.008638 [INFO]: Parsed annotation file $/home/patrikkaura/Git/DNA_analyser_IBP/example/annotations_parsed/melanogaster_1.csv  saved! \n",
      "2020-04-09 21:15:47.791917 [INFO]: Parsed annotation file $/home/patrikkaura/Git/DNA_analyser_IBP/example/annotations_parsed/melanogaster_3.csv  saved! \n"
     ]
    }
   ],
   "source": [
    "# you have to provide path where you want to store your parse files\n",
    "\n",
    "for file in annotations:\n",
    "    API.tools.annotation_parser(\n",
    "        annotation_path=file,\n",
    "        parsed_path='/home/patrikkaura/Git/DNA_analyser_IBP/example/annotations_parsed'\n",
    "    )"
   ]
  },
  {
   "cell_type": "code",
   "execution_count": 19,
   "metadata": {},
   "outputs": [
    {
     "data": {
      "text/plain": [
       "['/home/patrikkaura/Git/DNA_analyser_IBP/example/annotations_parsed/melanogaster_5.csv',\n",
       " '/home/patrikkaura/Git/DNA_analyser_IBP/example/annotations_parsed/melanogaster_2.csv',\n",
       " '/home/patrikkaura/Git/DNA_analyser_IBP/example/annotations_parsed/melanogaster_4.csv',\n",
       " '/home/patrikkaura/Git/DNA_analyser_IBP/example/annotations_parsed/melanogaster_3.csv',\n",
       " '/home/patrikkaura/Git/DNA_analyser_IBP/example/annotations_parsed/melanogaster_1.csv']"
      ]
     },
     "execution_count": 19,
     "metadata": {},
     "output_type": "execute_result"
    }
   ],
   "source": [
    "# lets see if they are created\n",
    "glob.glob('/home/patrikkaura/Git/DNA_analyser_IBP/example/annotations_parsed/*.csv')"
   ]
  },
  {
   "cell_type": "markdown",
   "metadata": {},
   "source": [
    "### LAST PART -> OVERLAY !!! :D"
   ]
  },
  {
   "cell_type": "code",
   "execution_count": 20,
   "metadata": {},
   "outputs": [],
   "source": [
    "# we have to make pairs of same files \n",
    "results = glob.glob('/home/patrikkaura/Git/DNA_analyser_IBP/example/g4_results/*.csv')\n",
    "annotations = glob.glob('/home/patrikkaura/Git/DNA_analyser_IBP/example/annotations_parsed/*.csv')"
   ]
  },
  {
   "cell_type": "code",
   "execution_count": 21,
   "metadata": {},
   "outputs": [],
   "source": [
    "pairs = API.tools.annotation_analyse_pair_creator(analyse_list=results, annotation_list=annotations)"
   ]
  },
  {
   "cell_type": "code",
   "execution_count": 22,
   "metadata": {},
   "outputs": [
    {
     "name": "stdout",
     "output_type": "stream",
     "text": [
      "/home/patrikkaura/Git/DNA_analyser_IBP/example/annotations_parsed/melanogaster_5.csv\n",
      "/home/patrikkaura/Git/DNA_analyser_IBP/example/g4_results/melanogaster_5_result.csv\n",
      "-------------\n",
      "/home/patrikkaura/Git/DNA_analyser_IBP/example/annotations_parsed/melanogaster_2.csv\n",
      "/home/patrikkaura/Git/DNA_analyser_IBP/example/g4_results/melanogaster_2_result.csv\n",
      "-------------\n",
      "/home/patrikkaura/Git/DNA_analyser_IBP/example/annotations_parsed/melanogaster_4.csv\n",
      "/home/patrikkaura/Git/DNA_analyser_IBP/example/g4_results/melanogaster_4_result.csv\n",
      "-------------\n",
      "/home/patrikkaura/Git/DNA_analyser_IBP/example/annotations_parsed/melanogaster_3.csv\n",
      "/home/patrikkaura/Git/DNA_analyser_IBP/example/g4_results/melanogaster_3_result.csv\n",
      "-------------\n",
      "/home/patrikkaura/Git/DNA_analyser_IBP/example/annotations_parsed/melanogaster_1.csv\n",
      "/home/patrikkaura/Git/DNA_analyser_IBP/example/g4_results/melanogaster_1_result.csv\n",
      "-------------\n"
     ]
    }
   ],
   "source": [
    "# now lets check created pair\n",
    "for result, annotation in pairs:\n",
    "    print(result)\n",
    "    print(annotation)\n",
    "    print('-------------')"
   ]
  },
  {
   "cell_type": "code",
   "execution_count": 23,
   "metadata": {
    "scrolled": true
   },
   "outputs": [
    {
     "name": "stdout",
     "output_type": "stream",
     "text": [
      "2020-04-09 21:15:48.783296 [INFO]: Overlay analysis /home/patrikkaura/Git/DNA_analyser_IBP/example/overlay/melanogaster_5.csv save!\n",
      "2020-04-09 21:16:05.753310 [INFO]: Overlay analysis /home/patrikkaura/Git/DNA_analyser_IBP/example/overlay/melanogaster_2.csv save!\n",
      "2020-04-09 21:16:25.220681 [INFO]: Overlay analysis /home/patrikkaura/Git/DNA_analyser_IBP/example/overlay/melanogaster_4.csv save!\n",
      "2020-04-09 21:16:55.779242 [INFO]: Overlay analysis /home/patrikkaura/Git/DNA_analyser_IBP/example/overlay/melanogaster_3.csv save!\n",
      "2020-04-09 21:17:26.439789 [INFO]: Overlay analysis /home/patrikkaura/Git/DNA_analyser_IBP/example/overlay/melanogaster_1.csv save!\n"
     ]
    }
   ],
   "source": [
    "# now run overlay\n",
    "# you have to again provide folder where you want to store overlay results\n",
    "\n",
    "for annotation, result in pairs:\n",
    "    API.tools.annotation_overlay(\n",
    "        area_size=100,\n",
    "        analyse_file=result,\n",
    "        annotation_file=annotation,\n",
    "        overlay_path='/home/patrikkaura/Git/DNA_analyser_IBP/example/overlay'\n",
    "    )"
   ]
  },
  {
   "cell_type": "markdown",
   "metadata": {},
   "source": [
    "``` NOW ITS UP TO YOU TO MAKE SCIENCE :)\n",
    "                              !         !          \n",
    "                             ! !       ! !          \n",
    "                            ! . !     ! . !          \n",
    "                               ^^^^^^^^^ ^            \n",
    "                             ^             ^          \n",
    "                           ^  (0)       (0)  ^       \n",
    "                          ^        \"\"         ^       \n",
    "                         ^   ***************    ^     \n",
    "                       ^   *                 *   ^    \n",
    "                      ^   *   /\\   /\\   /\\    *    ^   \n",
    "                     ^   *                     *    ^\n",
    "                    ^   *   /\\   /\\   /\\   /\\   *    ^\n",
    "                   ^   *                         *    ^\n",
    "                   ^  *                           *   ^\n",
    "                   ^  *                           *   ^\n",
    "                    ^ *                           *  ^  \n",
    "                     ^*                           * ^ \n",
    "                      ^ *                        * ^\n",
    "                      ^  *                      *  ^\n",
    "                        ^  *       ) (         * ^\n",
    "                            ^^^^^^^^ ^^^^^^^^^ \n",
    "```"
   ]
  }
 ],
 "metadata": {
  "kernelspec": {
   "display_name": "Python 3",
   "language": "python",
   "name": "python3"
  },
  "language_info": {
   "codemirror_mode": {
    "name": "ipython",
    "version": 3
   },
   "file_extension": ".py",
   "mimetype": "text/x-python",
   "name": "python",
   "nbconvert_exporter": "python",
   "pygments_lexer": "ipython3",
   "version": "3.6.9"
  }
 },
 "nbformat": 4,
 "nbformat_minor": 4
}
