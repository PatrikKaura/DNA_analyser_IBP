{
 "cells": [
  {
   "cell_type": "markdown",
   "metadata": {},
   "source": [
    "## G4HUNTER (COMPLETE ANALYSIS)"
   ]
  },
  {
   "cell_type": "code",
   "execution_count": 1,
   "metadata": {},
   "outputs": [],
   "source": [
    "from DNA_analyser_IBP import Api"
   ]
  },
  {
   "cell_type": "code",
   "execution_count": 2,
   "metadata": {},
   "outputs": [
    {
     "name": "stdout",
     "output_type": "stream",
     "text": [
      "Enter your email\t\n",
      "Enter your password\t········\n",
      "2020-03-29 20:20:12.794846 [INFO]: User host is trying to login ...\n",
      "2020-03-29 20:20:12.956686 [INFO]: User host logged in!\n"
     ]
    }
   ],
   "source": [
    "API = Api()"
   ]
  },
  {
   "cell_type": "markdown",
   "metadata": {},
   "source": [
    "### OPEN EXAMPLE CSV FILE"
   ]
  },
  {
   "cell_type": "code",
   "execution_count": 4,
   "metadata": {},
   "outputs": [],
   "source": [
    "import csv # import python csv library"
   ]
  },
  {
   "cell_type": "code",
   "execution_count": 4,
   "metadata": {
    "scrolled": true
   },
   "outputs": [
    {
     "name": "stdout",
     "output_type": "stream",
     "text": [
      "['melanogaster_1', 'melanogaster', 'NC_004354.4']\n",
      "['melanogaster_2', 'melanogaster', 'NT_033779.5']\n",
      "['melanogaster_3', 'melanogaster', 'NT_033778.4']\n",
      "['melanogaster_4', 'melanogaster', 'NT_037436.4']\n",
      "['melanogaster_5', 'melanogaster', 'NC_004353.4']\n"
     ]
    }
   ],
   "source": [
    "with open('/home/patrikkaura/Git/DNA_analyser_IBP/example/example_genomes.csv', 'r') as file:\n",
    "    reader = csv.reader(file, delimiter=',') # init csv reader\n",
    "    next(reader)                             # skip first csv row (if contains header)\n",
    "    for row in reader:                       # iterate through all rows of csv file\n",
    "        print(row)            # csv rows -> hopefully you'll see somethink like this :)"
   ]
  },
  {
   "cell_type": "markdown",
   "metadata": {},
   "source": [
    "### UPLOAD SEQUENCES INTO SERVER"
   ]
  },
  {
   "cell_type": "code",
   "execution_count": 5,
   "metadata": {
    "scrolled": true
   },
   "outputs": [
    {
     "name": "stderr",
     "output_type": "stream",
     "text": [
      "Uploading sequence melanogaster_1: 100 % uploaded [00:24,  4.10 % uploaded/s]\n",
      "Uploading sequence melanogaster_2: 100 % uploaded [00:23,  4.34 % uploaded/s]\n",
      "Uploading sequence melanogaster_3: 100 % uploaded [00:23,  4.23 % uploaded/s]\n",
      "Uploading sequence melanogaster_4: 100 % uploaded [00:23,  4.34 % uploaded/s]\n",
      "Uploading sequence melanogaster_5: 100 % uploaded [00:23,  4.28 % uploaded/s]\n"
     ]
    }
   ],
   "source": [
    "# now same code but ... we have to upload them into server\n",
    "\n",
    "# we have to index through list from csv like this ... :)\n",
    "# ['melanogaster_1', 'melanogaster', 'NC_004354.4']\n",
    "# row[0] -> melanogaster_1 (name) row[1] -> melanogaster (tag) row[2] -> NC_004354.4 (ncbi_id)\n",
    "\n",
    "with open('/home/patrikkaura/Git/DNA_analyser_IBP/example/example_genomes.csv', 'r') as file:\n",
    "    reader = csv.reader(file, delimiter=',')\n",
    "    next(reader)                             \n",
    "    for row in reader:                       \n",
    "        API.sequence.ncbi_creator(\n",
    "            name=row[0],\n",
    "            circular=True,\n",
    "            ncbi_id=row[2],\n",
    "            tags=[row[1], 'some_test_tag_if_you_want'],\n",
    "        )"
   ]
  },
  {
   "cell_type": "code",
   "execution_count": 6,
   "metadata": {
    "scrolled": false
   },
   "outputs": [
    {
     "data": {
      "text/html": [
       "<div>\n",
       "<style scoped>\n",
       "    .dataframe tbody tr th:only-of-type {\n",
       "        vertical-align: middle;\n",
       "    }\n",
       "\n",
       "    .dataframe tbody tr th {\n",
       "        vertical-align: top;\n",
       "    }\n",
       "\n",
       "    .dataframe thead th {\n",
       "        text-align: right;\n",
       "    }\n",
       "</style>\n",
       "<table border=\"1\" class=\"dataframe\">\n",
       "  <thead>\n",
       "    <tr style=\"text-align: right;\">\n",
       "      <th></th>\n",
       "      <th>id</th>\n",
       "      <th>name</th>\n",
       "      <th>created</th>\n",
       "      <th>type</th>\n",
       "      <th>circular</th>\n",
       "      <th>length</th>\n",
       "      <th>ncbi</th>\n",
       "      <th>tags</th>\n",
       "      <th>fasta_comment</th>\n",
       "      <th>gc_count</th>\n",
       "      <th>nucleic_count</th>\n",
       "    </tr>\n",
       "  </thead>\n",
       "  <tbody>\n",
       "    <tr>\n",
       "      <th>0</th>\n",
       "      <td>88d0063d-0c83-455f-9b6b-8629a78c4fce</td>\n",
       "      <td>melanogaster_1</td>\n",
       "      <td>2020-03-29T18:15:40.536+0000</td>\n",
       "      <td>DNA</td>\n",
       "      <td>True</td>\n",
       "      <td>23542271</td>\n",
       "      <td>NC_004354.4</td>\n",
       "      <td>some_test_tag_if_you_want, melanogaster</td>\n",
       "      <td>None</td>\n",
       "      <td>None</td>\n",
       "      <td>None</td>\n",
       "    </tr>\n",
       "    <tr>\n",
       "      <th>1</th>\n",
       "      <td>f5f7630c-9b55-4a23-b8d2-7a5b631e27ac</td>\n",
       "      <td>melanogaster_2</td>\n",
       "      <td>2020-03-29T18:16:03.719+0000</td>\n",
       "      <td>DNA</td>\n",
       "      <td>True</td>\n",
       "      <td>23513712</td>\n",
       "      <td>NT_033779.5</td>\n",
       "      <td>some_test_tag_if_you_want, melanogaster</td>\n",
       "      <td>None</td>\n",
       "      <td>None</td>\n",
       "      <td>None</td>\n",
       "    </tr>\n",
       "    <tr>\n",
       "      <th>2</th>\n",
       "      <td>43bb997a-3fb1-4898-93b0-19a61855f7e4</td>\n",
       "      <td>melanogaster_3</td>\n",
       "      <td>2020-03-29T18:16:27.343+0000</td>\n",
       "      <td>DNA</td>\n",
       "      <td>True</td>\n",
       "      <td>25286936</td>\n",
       "      <td>NT_033778.4</td>\n",
       "      <td>some_test_tag_if_you_want, melanogaster</td>\n",
       "      <td>None</td>\n",
       "      <td>None</td>\n",
       "      <td>None</td>\n",
       "    </tr>\n",
       "    <tr>\n",
       "      <th>3</th>\n",
       "      <td>8d90997b-9549-48df-9abc-53bb69bb0e11</td>\n",
       "      <td>melanogaster_4</td>\n",
       "      <td>2020-03-29T18:16:50.381+0000</td>\n",
       "      <td>DNA</td>\n",
       "      <td>True</td>\n",
       "      <td>28110227</td>\n",
       "      <td>NT_037436.4</td>\n",
       "      <td>some_test_tag_if_you_want, melanogaster</td>\n",
       "      <td>None</td>\n",
       "      <td>None</td>\n",
       "      <td>None</td>\n",
       "    </tr>\n",
       "    <tr>\n",
       "      <th>4</th>\n",
       "      <td>3cd927cd-f829-4c7c-9e03-2c0ab641dd59</td>\n",
       "      <td>melanogaster_5</td>\n",
       "      <td>2020-03-29T18:17:13.719+0000</td>\n",
       "      <td>DNA</td>\n",
       "      <td>True</td>\n",
       "      <td>1348131</td>\n",
       "      <td>NC_004353.4</td>\n",
       "      <td>some_test_tag_if_you_want, melanogaster</td>\n",
       "      <td>None</td>\n",
       "      <td>None</td>\n",
       "      <td>None</td>\n",
       "    </tr>\n",
       "  </tbody>\n",
       "</table>\n",
       "</div>"
      ],
      "text/plain": [
       "                                     id            name  \\\n",
       "0  88d0063d-0c83-455f-9b6b-8629a78c4fce  melanogaster_1   \n",
       "1  f5f7630c-9b55-4a23-b8d2-7a5b631e27ac  melanogaster_2   \n",
       "2  43bb997a-3fb1-4898-93b0-19a61855f7e4  melanogaster_3   \n",
       "3  8d90997b-9549-48df-9abc-53bb69bb0e11  melanogaster_4   \n",
       "4  3cd927cd-f829-4c7c-9e03-2c0ab641dd59  melanogaster_5   \n",
       "\n",
       "                        created type  circular    length         ncbi  \\\n",
       "0  2020-03-29T18:15:40.536+0000  DNA      True  23542271  NC_004354.4   \n",
       "1  2020-03-29T18:16:03.719+0000  DNA      True  23513712  NT_033779.5   \n",
       "2  2020-03-29T18:16:27.343+0000  DNA      True  25286936  NT_033778.4   \n",
       "3  2020-03-29T18:16:50.381+0000  DNA      True  28110227  NT_037436.4   \n",
       "4  2020-03-29T18:17:13.719+0000  DNA      True   1348131  NC_004353.4   \n",
       "\n",
       "                                      tags fasta_comment gc_count  \\\n",
       "0  some_test_tag_if_you_want, melanogaster          None     None   \n",
       "1  some_test_tag_if_you_want, melanogaster          None     None   \n",
       "2  some_test_tag_if_you_want, melanogaster          None     None   \n",
       "3  some_test_tag_if_you_want, melanogaster          None     None   \n",
       "4  some_test_tag_if_you_want, melanogaster          None     None   \n",
       "\n",
       "  nucleic_count  \n",
       "0          None  \n",
       "1          None  \n",
       "2          None  \n",
       "3          None  \n",
       "4          None  "
      ]
     },
     "execution_count": 6,
     "metadata": {},
     "output_type": "execute_result"
    }
   ],
   "source": [
    "# now we can see if they are all uploaded\n",
    "API.sequence.load_all(tags=['melanogaster'])"
   ]
  },
  {
   "cell_type": "code",
   "execution_count": 7,
   "metadata": {
    "scrolled": true
   },
   "outputs": [
    {
     "name": "stdout",
     "output_type": "stream",
     "text": [
      "2020-03-29 20:17:19.512991 [INFO]: Sequence 88d0063d-0c83-455f-9b6b-8629a78c4fce nucleotides was re-counted!\n",
      "2020-03-29 20:17:20.434667 [INFO]: Sequence f5f7630c-9b55-4a23-b8d2-7a5b631e27ac nucleotides was re-counted!\n",
      "2020-03-29 20:17:21.458852 [INFO]: Sequence 43bb997a-3fb1-4898-93b0-19a61855f7e4 nucleotides was re-counted!\n",
      "2020-03-29 20:17:22.481618 [INFO]: Sequence 8d90997b-9549-48df-9abc-53bb69bb0e11 nucleotides was re-counted!\n",
      "2020-03-29 20:17:22.583904 [INFO]: Sequence 3cd927cd-f829-4c7c-9e03-2c0ab641dd59 nucleotides was re-counted!\n"
     ]
    }
   ],
   "source": [
    "# well it looks great! but ... we are missing nucleic count thanks to server bug ...\n",
    "# so lets recalculate them\n",
    "\n",
    "sequences = API.sequence.load_all(tags=['melanogaster']) # lets save sequence table into variable\n",
    "API.sequence.nucleic_count(sequence=sequences) # and put it as function parameter"
   ]
  },
  {
   "cell_type": "code",
   "execution_count": 8,
   "metadata": {
    "scrolled": false
   },
   "outputs": [
    {
     "data": {
      "text/html": [
       "<div>\n",
       "<style scoped>\n",
       "    .dataframe tbody tr th:only-of-type {\n",
       "        vertical-align: middle;\n",
       "    }\n",
       "\n",
       "    .dataframe tbody tr th {\n",
       "        vertical-align: top;\n",
       "    }\n",
       "\n",
       "    .dataframe thead th {\n",
       "        text-align: right;\n",
       "    }\n",
       "</style>\n",
       "<table border=\"1\" class=\"dataframe\">\n",
       "  <thead>\n",
       "    <tr style=\"text-align: right;\">\n",
       "      <th></th>\n",
       "      <th>id</th>\n",
       "      <th>name</th>\n",
       "      <th>created</th>\n",
       "      <th>type</th>\n",
       "      <th>circular</th>\n",
       "      <th>length</th>\n",
       "      <th>ncbi</th>\n",
       "      <th>tags</th>\n",
       "      <th>fasta_comment</th>\n",
       "      <th>gc_count</th>\n",
       "      <th>nucleic_count</th>\n",
       "    </tr>\n",
       "  </thead>\n",
       "  <tbody>\n",
       "    <tr>\n",
       "      <th>0</th>\n",
       "      <td>88d0063d-0c83-455f-9b6b-8629a78c4fce</td>\n",
       "      <td>melanogaster_1</td>\n",
       "      <td>2020-03-29T18:15:40.536+0000</td>\n",
       "      <td>DNA</td>\n",
       "      <td>True</td>\n",
       "      <td>23542271</td>\n",
       "      <td>NC_004354.4</td>\n",
       "      <td>some_test_tag_if_you_want, melanogaster</td>\n",
       "      <td>None</td>\n",
       "      <td>9968592</td>\n",
       "      <td>{'A': 6732793, 'N': 66120, 'T': 6774766, 'G': ...</td>\n",
       "    </tr>\n",
       "    <tr>\n",
       "      <th>1</th>\n",
       "      <td>f5f7630c-9b55-4a23-b8d2-7a5b631e27ac</td>\n",
       "      <td>melanogaster_2</td>\n",
       "      <td>2020-03-29T18:16:03.719+0000</td>\n",
       "      <td>DNA</td>\n",
       "      <td>True</td>\n",
       "      <td>23513712</td>\n",
       "      <td>NT_033779.5</td>\n",
       "      <td>some_test_tag_if_you_want, melanogaster</td>\n",
       "      <td>None</td>\n",
       "      <td>9824400</td>\n",
       "      <td>{'A': 6853032, 'N': 200, 'T': 6836080, 'G': 49...</td>\n",
       "    </tr>\n",
       "    <tr>\n",
       "      <th>2</th>\n",
       "      <td>43bb997a-3fb1-4898-93b0-19a61855f7e4</td>\n",
       "      <td>melanogaster_3</td>\n",
       "      <td>2020-03-29T18:16:27.343+0000</td>\n",
       "      <td>DNA</td>\n",
       "      <td>True</td>\n",
       "      <td>25286936</td>\n",
       "      <td>NT_033778.4</td>\n",
       "      <td>some_test_tag_if_you_want, melanogaster</td>\n",
       "      <td>None</td>\n",
       "      <td>10771814</td>\n",
       "      <td>{'A': 7272860, 'N': 6700, 'T': 7235562, 'G': 5...</td>\n",
       "    </tr>\n",
       "    <tr>\n",
       "      <th>3</th>\n",
       "      <td>8d90997b-9549-48df-9abc-53bb69bb0e11</td>\n",
       "      <td>melanogaster_4</td>\n",
       "      <td>2020-03-29T18:16:50.381+0000</td>\n",
       "      <td>DNA</td>\n",
       "      <td>True</td>\n",
       "      <td>28110227</td>\n",
       "      <td>NT_037436.4</td>\n",
       "      <td>some_test_tag_if_you_want, melanogaster</td>\n",
       "      <td>None</td>\n",
       "      <td>11650188</td>\n",
       "      <td>{'A': 8143548, 'N': 118160, 'T': 8198331, 'G':...</td>\n",
       "    </tr>\n",
       "    <tr>\n",
       "      <th>4</th>\n",
       "      <td>3cd927cd-f829-4c7c-9e03-2c0ab641dd59</td>\n",
       "      <td>melanogaster_5</td>\n",
       "      <td>2020-03-29T18:17:13.719+0000</td>\n",
       "      <td>DNA</td>\n",
       "      <td>True</td>\n",
       "      <td>1348131</td>\n",
       "      <td>NC_004353.4</td>\n",
       "      <td>some_test_tag_if_you_want, melanogaster</td>\n",
       "      <td>None</td>\n",
       "      <td>469221</td>\n",
       "      <td>{'A': 425241, 'N': 17000, 'T': 436669, 'G': 23...</td>\n",
       "    </tr>\n",
       "  </tbody>\n",
       "</table>\n",
       "</div>"
      ],
      "text/plain": [
       "                                     id            name  \\\n",
       "0  88d0063d-0c83-455f-9b6b-8629a78c4fce  melanogaster_1   \n",
       "1  f5f7630c-9b55-4a23-b8d2-7a5b631e27ac  melanogaster_2   \n",
       "2  43bb997a-3fb1-4898-93b0-19a61855f7e4  melanogaster_3   \n",
       "3  8d90997b-9549-48df-9abc-53bb69bb0e11  melanogaster_4   \n",
       "4  3cd927cd-f829-4c7c-9e03-2c0ab641dd59  melanogaster_5   \n",
       "\n",
       "                        created type  circular    length         ncbi  \\\n",
       "0  2020-03-29T18:15:40.536+0000  DNA      True  23542271  NC_004354.4   \n",
       "1  2020-03-29T18:16:03.719+0000  DNA      True  23513712  NT_033779.5   \n",
       "2  2020-03-29T18:16:27.343+0000  DNA      True  25286936  NT_033778.4   \n",
       "3  2020-03-29T18:16:50.381+0000  DNA      True  28110227  NT_037436.4   \n",
       "4  2020-03-29T18:17:13.719+0000  DNA      True   1348131  NC_004353.4   \n",
       "\n",
       "                                      tags fasta_comment  gc_count  \\\n",
       "0  some_test_tag_if_you_want, melanogaster          None   9968592   \n",
       "1  some_test_tag_if_you_want, melanogaster          None   9824400   \n",
       "2  some_test_tag_if_you_want, melanogaster          None  10771814   \n",
       "3  some_test_tag_if_you_want, melanogaster          None  11650188   \n",
       "4  some_test_tag_if_you_want, melanogaster          None    469221   \n",
       "\n",
       "                                       nucleic_count  \n",
       "0  {'A': 6732793, 'N': 66120, 'T': 6774766, 'G': ...  \n",
       "1  {'A': 6853032, 'N': 200, 'T': 6836080, 'G': 49...  \n",
       "2  {'A': 7272860, 'N': 6700, 'T': 7235562, 'G': 5...  \n",
       "3  {'A': 8143548, 'N': 118160, 'T': 8198331, 'G':...  \n",
       "4  {'A': 425241, 'N': 17000, 'T': 436669, 'G': 23...  "
      ]
     },
     "execution_count": 8,
     "metadata": {},
     "output_type": "execute_result"
    }
   ],
   "source": [
    "API.sequence.load_all(tags=['melanogaster']) # not its perfect ! :)"
   ]
  },
  {
   "cell_type": "markdown",
   "metadata": {},
   "source": [
    "### RUN G4HUNTER"
   ]
  },
  {
   "cell_type": "code",
   "execution_count": 9,
   "metadata": {},
   "outputs": [],
   "source": [
    "# once again save table with sequences into variable\n",
    "sequences = API.sequence.load_all(tags=['melanogaster'])"
   ]
  },
  {
   "cell_type": "code",
   "execution_count": 10,
   "metadata": {},
   "outputs": [
    {
     "name": "stderr",
     "output_type": "stream",
     "text": [
      "Analysing sequence melanogaster_1: 100 % processed [00:11,  8.75 % processed/s]\n",
      "Analysing sequence melanogaster_2: 100 % processed [00:08, 12.01 % processed/s]\n",
      "Analysing sequence melanogaster_3: 100 % processed [00:09, 11.06 % processed/s]\n",
      "Analysing sequence melanogaster_4: 100 % processed [00:11,  8.77 % processed/s]\n",
      "Analysing sequence melanogaster_5: 100 % processed [00:02, 43.84 % processed/s]\n"
     ]
    }
   ],
   "source": [
    "# and now run G4hunter!!!\n",
    "\n",
    "# in this command you can specify your own tags or if you leave it empty then it\n",
    "# automaticaly copies them from given sequence\n",
    "\n",
    "API.g4hunter.analyse_creator(\n",
    "    threshold=1.2,\n",
    "    window_size=25,\n",
    "    sequence=sequences,\n",
    ")"
   ]
  },
  {
   "cell_type": "code",
   "execution_count": 11,
   "metadata": {},
   "outputs": [
    {
     "data": {
      "text/html": [
       "<div>\n",
       "<style scoped>\n",
       "    .dataframe tbody tr th:only-of-type {\n",
       "        vertical-align: middle;\n",
       "    }\n",
       "\n",
       "    .dataframe tbody tr th {\n",
       "        vertical-align: top;\n",
       "    }\n",
       "\n",
       "    .dataframe thead th {\n",
       "        text-align: right;\n",
       "    }\n",
       "</style>\n",
       "<table border=\"1\" class=\"dataframe\">\n",
       "  <thead>\n",
       "    <tr style=\"text-align: right;\">\n",
       "      <th></th>\n",
       "      <th>id</th>\n",
       "      <th>created</th>\n",
       "      <th>tags</th>\n",
       "      <th>finished</th>\n",
       "      <th>title</th>\n",
       "      <th>sequence_id</th>\n",
       "      <th>result_count</th>\n",
       "      <th>window_size</th>\n",
       "      <th>threshold</th>\n",
       "      <th>frequency</th>\n",
       "    </tr>\n",
       "  </thead>\n",
       "  <tbody>\n",
       "    <tr>\n",
       "      <th>0</th>\n",
       "      <td>73b0de11-cd8d-4bb9-8778-c020b8e72f13</td>\n",
       "      <td>2020-03-29T18:17:18.622+0000</td>\n",
       "      <td>some_test_tag_if_you_want, melanogaster</td>\n",
       "      <td>2020-03-29T18:17:29.494+0000</td>\n",
       "      <td>melanogaster_1</td>\n",
       "      <td>88d0063d-0c83-455f-9b6b-8629a78c4fce</td>\n",
       "      <td>37592</td>\n",
       "      <td>25</td>\n",
       "      <td>1.2</td>\n",
       "      <td>1.596787</td>\n",
       "    </tr>\n",
       "    <tr>\n",
       "      <th>1</th>\n",
       "      <td>1bc2f089-020f-4719-9a6e-0fb503ed721a</td>\n",
       "      <td>2020-03-29T18:17:30.069+0000</td>\n",
       "      <td>some_test_tag_if_you_want, melanogaster</td>\n",
       "      <td>2020-03-29T18:17:37.619+0000</td>\n",
       "      <td>melanogaster_2</td>\n",
       "      <td>f5f7630c-9b55-4a23-b8d2-7a5b631e27ac</td>\n",
       "      <td>28639</td>\n",
       "      <td>25</td>\n",
       "      <td>1.2</td>\n",
       "      <td>1.217970</td>\n",
       "    </tr>\n",
       "    <tr>\n",
       "      <th>2</th>\n",
       "      <td>9dd351bd-37a7-4bac-be8c-fb4c3e092d3b</td>\n",
       "      <td>2020-03-29T18:17:38.402+0000</td>\n",
       "      <td>some_test_tag_if_you_want, melanogaster</td>\n",
       "      <td>2020-03-29T18:17:46.517+0000</td>\n",
       "      <td>melanogaster_3</td>\n",
       "      <td>43bb997a-3fb1-4898-93b0-19a61855f7e4</td>\n",
       "      <td>29934</td>\n",
       "      <td>25</td>\n",
       "      <td>1.2</td>\n",
       "      <td>1.183773</td>\n",
       "    </tr>\n",
       "    <tr>\n",
       "      <th>3</th>\n",
       "      <td>fac3ba6f-9c2e-4906-8c12-77457dd4a3eb</td>\n",
       "      <td>2020-03-29T18:17:47.438+0000</td>\n",
       "      <td>some_test_tag_if_you_want, melanogaster</td>\n",
       "      <td>2020-03-29T18:17:55.960+0000</td>\n",
       "      <td>melanogaster_4</td>\n",
       "      <td>8d90997b-9549-48df-9abc-53bb69bb0e11</td>\n",
       "      <td>33439</td>\n",
       "      <td>25</td>\n",
       "      <td>1.2</td>\n",
       "      <td>1.189567</td>\n",
       "    </tr>\n",
       "    <tr>\n",
       "      <th>4</th>\n",
       "      <td>6344a3df-3a15-488a-975c-1c979d8d1f4b</td>\n",
       "      <td>2020-03-29T18:17:58.848+0000</td>\n",
       "      <td>some_test_tag_if_you_want, melanogaster</td>\n",
       "      <td>2020-03-29T18:17:59.964+0000</td>\n",
       "      <td>melanogaster_5</td>\n",
       "      <td>3cd927cd-f829-4c7c-9e03-2c0ab641dd59</td>\n",
       "      <td>560</td>\n",
       "      <td>25</td>\n",
       "      <td>1.2</td>\n",
       "      <td>0.415390</td>\n",
       "    </tr>\n",
       "  </tbody>\n",
       "</table>\n",
       "</div>"
      ],
      "text/plain": [
       "                                     id                       created  \\\n",
       "0  73b0de11-cd8d-4bb9-8778-c020b8e72f13  2020-03-29T18:17:18.622+0000   \n",
       "1  1bc2f089-020f-4719-9a6e-0fb503ed721a  2020-03-29T18:17:30.069+0000   \n",
       "2  9dd351bd-37a7-4bac-be8c-fb4c3e092d3b  2020-03-29T18:17:38.402+0000   \n",
       "3  fac3ba6f-9c2e-4906-8c12-77457dd4a3eb  2020-03-29T18:17:47.438+0000   \n",
       "4  6344a3df-3a15-488a-975c-1c979d8d1f4b  2020-03-29T18:17:58.848+0000   \n",
       "\n",
       "                                      tags                      finished  \\\n",
       "0  some_test_tag_if_you_want, melanogaster  2020-03-29T18:17:29.494+0000   \n",
       "1  some_test_tag_if_you_want, melanogaster  2020-03-29T18:17:37.619+0000   \n",
       "2  some_test_tag_if_you_want, melanogaster  2020-03-29T18:17:46.517+0000   \n",
       "3  some_test_tag_if_you_want, melanogaster  2020-03-29T18:17:55.960+0000   \n",
       "4  some_test_tag_if_you_want, melanogaster  2020-03-29T18:17:59.964+0000   \n",
       "\n",
       "            title                           sequence_id  result_count  \\\n",
       "0  melanogaster_1  88d0063d-0c83-455f-9b6b-8629a78c4fce         37592   \n",
       "1  melanogaster_2  f5f7630c-9b55-4a23-b8d2-7a5b631e27ac         28639   \n",
       "2  melanogaster_3  43bb997a-3fb1-4898-93b0-19a61855f7e4         29934   \n",
       "3  melanogaster_4  8d90997b-9549-48df-9abc-53bb69bb0e11         33439   \n",
       "4  melanogaster_5  3cd927cd-f829-4c7c-9e03-2c0ab641dd59           560   \n",
       "\n",
       "   window_size  threshold  frequency  \n",
       "0           25        1.2   1.596787  \n",
       "1           25        1.2   1.217970  \n",
       "2           25        1.2   1.183773  \n",
       "3           25        1.2   1.189567  \n",
       "4           25        1.2   0.415390  "
      ]
     },
     "execution_count": 11,
     "metadata": {},
     "output_type": "execute_result"
    }
   ],
   "source": [
    "# well it looks analysed :D ... is it???\n",
    "API.g4hunter.load_all(tags=['melanogaster'])"
   ]
  },
  {
   "cell_type": "code",
   "execution_count": 12,
   "metadata": {},
   "outputs": [],
   "source": [
    "# now lets download the results ... :)"
   ]
  },
  {
   "cell_type": "code",
   "execution_count": 13,
   "metadata": {},
   "outputs": [
    {
     "name": "stdout",
     "output_type": "stream",
     "text": [
      "2020-03-29 20:18:07.655881 [INFO]: file created -> /home/patrikkaura/Git/DNA_analyser_IBP/example/g4_results/melanogaster_1_result.csv\n",
      "2020-03-29 20:18:11.058257 [INFO]: file created -> /home/patrikkaura/Git/DNA_analyser_IBP/example/g4_results/melanogaster_2_result.csv\n",
      "2020-03-29 20:18:12.840885 [INFO]: file created -> /home/patrikkaura/Git/DNA_analyser_IBP/example/g4_results/melanogaster_3_result.csv\n",
      "2020-03-29 20:18:14.602977 [INFO]: file created -> /home/patrikkaura/Git/DNA_analyser_IBP/example/g4_results/melanogaster_4_result.csv\n",
      "2020-03-29 20:18:15.249189 [INFO]: file created -> /home/patrikkaura/Git/DNA_analyser_IBP/example/g4_results/melanogaster_5_result.csv\n"
     ]
    }
   ],
   "source": [
    "results = API.g4hunter.load_all(tags=['melanogaster']) # again save table into variable\n",
    "\n",
    "# and download results as csv files :)\n",
    "API.g4hunter.export_csv(\n",
    "    aggregate=True,\n",
    "    analyse=results,\n",
    "    path='/home/patrikkaura/Git/DNA_analyser_IBP/example/g4_results'\n",
    ")"
   ]
  },
  {
   "cell_type": "markdown",
   "metadata": {},
   "source": [
    "### LETS DOWNLOAD AND PARSE ANNOTATIONS"
   ]
  },
  {
   "cell_type": "code",
   "execution_count": 5,
   "metadata": {
    "scrolled": true
   },
   "outputs": [
    {
     "name": "stdout",
     "output_type": "stream",
     "text": [
      "2020-03-29 20:20:38.643584 [INFO]: Annotation NC_004354.4 is being downloaded!\n",
      "2020-03-29 20:21:24.480868 [INFO]: Annotation file [melanogaster_1.txt] is created!\n",
      "2020-03-29 20:21:24.481938 [INFO]: Annotation NT_033779.5 is being downloaded!\n",
      "2020-03-29 20:22:15.879522 [INFO]: Annotation file [melanogaster_2.txt] is created!\n",
      "2020-03-29 20:22:15.880421 [INFO]: Annotation NT_033778.4 is being downloaded!\n",
      "2020-03-29 20:23:13.533761 [INFO]: Annotation file [melanogaster_3.txt] is created!\n",
      "2020-03-29 20:23:13.534648 [INFO]: Annotation NT_037436.4 is being downloaded!\n",
      "2020-03-29 20:24:10.673275 [INFO]: Annotation file [melanogaster_4.txt] is created!\n",
      "2020-03-29 20:24:10.674942 [INFO]: Annotation NC_004353.4 is being downloaded!\n",
      "2020-03-29 20:24:14.335611 [INFO]: Annotation file [melanogaster_5.txt] is created!\n"
     ]
    }
   ],
   "source": [
    "# lets use the same CSV file which can provide NCBI_ID and name\n",
    "# you have to also provide path where you want to save annotation files :)\n",
    "\n",
    "with open('/home/patrikkaura/Git/DNA_analyser_IBP/example/example_genomes.csv', 'r') as file:\n",
    "    reader = csv.reader(file, delimiter=',')\n",
    "    next(reader)                             \n",
    "    for row in reader: \n",
    "        API.tools.annotation_downloader(\n",
    "            ncbi_id=row[2],\n",
    "            filename=row[0],\n",
    "            path='/home/patrikkaura/Git/DNA_analyser_IBP/example/annotations'\n",
    "        )"
   ]
  },
  {
   "cell_type": "code",
   "execution_count": 6,
   "metadata": {},
   "outputs": [],
   "source": [
    "# if you want to make an overlay analysis you have to convert these files into\n",
    "# parsed form lets find our downloaded files ...\n",
    "\n",
    "import glob # now we import library which find files on disk :)"
   ]
  },
  {
   "cell_type": "code",
   "execution_count": 7,
   "metadata": {},
   "outputs": [],
   "source": [
    "annotations = glob.glob('/home/patrikkaura/Git/DNA_analyser_IBP/example/annotations/*.txt')"
   ]
  },
  {
   "cell_type": "code",
   "execution_count": 8,
   "metadata": {},
   "outputs": [
    {
     "data": {
      "text/plain": [
       "['/home/patrikkaura/Git/DNA_analyser_IBP/example/annotations/melanogaster_2.txt',\n",
       " '/home/patrikkaura/Git/DNA_analyser_IBP/example/annotations/melanogaster_5.txt',\n",
       " '/home/patrikkaura/Git/DNA_analyser_IBP/example/annotations/melanogaster_4.txt',\n",
       " '/home/patrikkaura/Git/DNA_analyser_IBP/example/annotations/melanogaster_1.txt',\n",
       " '/home/patrikkaura/Git/DNA_analyser_IBP/example/annotations/melanogaster_3.txt']"
      ]
     },
     "execution_count": 8,
     "metadata": {},
     "output_type": "execute_result"
    }
   ],
   "source": [
    "annotations # here they are !"
   ]
  },
  {
   "cell_type": "code",
   "execution_count": 9,
   "metadata": {},
   "outputs": [
    {
     "name": "stdout",
     "output_type": "stream",
     "text": [
      "2020-03-29 20:24:15.020607 [INFO]: Parsed annotation file $/home/patrikkaura/Git/DNA_analyser_IBP/example/annotations_parsed/melanogaster_2.csv  saved! \n",
      "2020-03-29 20:24:15.386866 [INFO]: Parsed annotation file $/home/patrikkaura/Git/DNA_analyser_IBP/example/annotations_parsed/melanogaster_5.csv  saved! \n",
      "2020-03-29 20:24:15.913188 [INFO]: Parsed annotation file $/home/patrikkaura/Git/DNA_analyser_IBP/example/annotations_parsed/melanogaster_4.csv  saved! \n",
      "2020-03-29 20:24:16.864205 [INFO]: Parsed annotation file $/home/patrikkaura/Git/DNA_analyser_IBP/example/annotations_parsed/melanogaster_1.csv  saved! \n",
      "2020-03-29 20:24:18.039950 [INFO]: Parsed annotation file $/home/patrikkaura/Git/DNA_analyser_IBP/example/annotations_parsed/melanogaster_3.csv  saved! \n"
     ]
    }
   ],
   "source": [
    "# you have to provide path where you want to store your parse files\n",
    "\n",
    "for file in annotations:\n",
    "    API.tools.annotation_parser(\n",
    "        annotation_path=file,\n",
    "        parsed_path='/home/patrikkaura/Git/DNA_analyser_IBP/example/annotations_parsed'\n",
    "    )"
   ]
  },
  {
   "cell_type": "code",
   "execution_count": 10,
   "metadata": {},
   "outputs": [
    {
     "data": {
      "text/plain": [
       "['/home/patrikkaura/Git/DNA_analyser_IBP/example/annotations_parsed/melanogaster_5.csv',\n",
       " '/home/patrikkaura/Git/DNA_analyser_IBP/example/annotations_parsed/melanogaster_2.csv',\n",
       " '/home/patrikkaura/Git/DNA_analyser_IBP/example/annotations_parsed/melanogaster_4.csv',\n",
       " '/home/patrikkaura/Git/DNA_analyser_IBP/example/annotations_parsed/melanogaster_3.csv',\n",
       " '/home/patrikkaura/Git/DNA_analyser_IBP/example/annotations_parsed/melanogaster_1.csv']"
      ]
     },
     "execution_count": 10,
     "metadata": {},
     "output_type": "execute_result"
    }
   ],
   "source": [
    "# lets see if they are created\n",
    "glob.glob('/home/patrikkaura/Git/DNA_analyser_IBP/example/annotations_parsed/*.csv')"
   ]
  },
  {
   "cell_type": "markdown",
   "metadata": {},
   "source": [
    "### LAST PART -> OVERLAY !!! :D"
   ]
  },
  {
   "cell_type": "code",
   "execution_count": 12,
   "metadata": {},
   "outputs": [],
   "source": [
    "# we have to make pairs of same files \n",
    "results = glob.glob('/home/patrikkaura/Git/DNA_analyser_IBP/example/g4_results/*.csv')\n",
    "annotations = glob.glob('/home/patrikkaura/Git/DNA_analyser_IBP/example/annotations_parsed/*.csv')"
   ]
  },
  {
   "cell_type": "code",
   "execution_count": 13,
   "metadata": {},
   "outputs": [],
   "source": [
    "# we have to sort them by name\n",
    "results.sort() \n",
    "annotations.sort()"
   ]
  },
  {
   "cell_type": "code",
   "execution_count": 14,
   "metadata": {},
   "outputs": [
    {
     "data": {
      "text/plain": [
       "['/home/patrikkaura/Git/DNA_analyser_IBP/example/g4_results/melanogaster_1_result.csv',\n",
       " '/home/patrikkaura/Git/DNA_analyser_IBP/example/g4_results/melanogaster_2_result.csv',\n",
       " '/home/patrikkaura/Git/DNA_analyser_IBP/example/g4_results/melanogaster_3_result.csv',\n",
       " '/home/patrikkaura/Git/DNA_analyser_IBP/example/g4_results/melanogaster_4_result.csv',\n",
       " '/home/patrikkaura/Git/DNA_analyser_IBP/example/g4_results/melanogaster_5_result.csv']"
      ]
     },
     "execution_count": 14,
     "metadata": {},
     "output_type": "execute_result"
    }
   ],
   "source": [
    "results"
   ]
  },
  {
   "cell_type": "code",
   "execution_count": 15,
   "metadata": {},
   "outputs": [
    {
     "data": {
      "text/plain": [
       "['/home/patrikkaura/Git/DNA_analyser_IBP/example/annotations_parsed/melanogaster_1.csv',\n",
       " '/home/patrikkaura/Git/DNA_analyser_IBP/example/annotations_parsed/melanogaster_2.csv',\n",
       " '/home/patrikkaura/Git/DNA_analyser_IBP/example/annotations_parsed/melanogaster_3.csv',\n",
       " '/home/patrikkaura/Git/DNA_analyser_IBP/example/annotations_parsed/melanogaster_4.csv',\n",
       " '/home/patrikkaura/Git/DNA_analyser_IBP/example/annotations_parsed/melanogaster_5.csv']"
      ]
     },
     "execution_count": 15,
     "metadata": {},
     "output_type": "execute_result"
    }
   ],
   "source": [
    "annotations"
   ]
  },
  {
   "cell_type": "code",
   "execution_count": 16,
   "metadata": {},
   "outputs": [
    {
     "name": "stdout",
     "output_type": "stream",
     "text": [
      "/home/patrikkaura/Git/DNA_analyser_IBP/example/g4_results/melanogaster_1_result.csv\n",
      "/home/patrikkaura/Git/DNA_analyser_IBP/example/annotations_parsed/melanogaster_1.csv\n",
      "-------------\n",
      "/home/patrikkaura/Git/DNA_analyser_IBP/example/g4_results/melanogaster_2_result.csv\n",
      "/home/patrikkaura/Git/DNA_analyser_IBP/example/annotations_parsed/melanogaster_2.csv\n",
      "-------------\n",
      "/home/patrikkaura/Git/DNA_analyser_IBP/example/g4_results/melanogaster_3_result.csv\n",
      "/home/patrikkaura/Git/DNA_analyser_IBP/example/annotations_parsed/melanogaster_3.csv\n",
      "-------------\n",
      "/home/patrikkaura/Git/DNA_analyser_IBP/example/g4_results/melanogaster_4_result.csv\n",
      "/home/patrikkaura/Git/DNA_analyser_IBP/example/annotations_parsed/melanogaster_4.csv\n",
      "-------------\n",
      "/home/patrikkaura/Git/DNA_analyser_IBP/example/g4_results/melanogaster_5_result.csv\n",
      "/home/patrikkaura/Git/DNA_analyser_IBP/example/annotations_parsed/melanogaster_5.csv\n",
      "-------------\n"
     ]
    }
   ],
   "source": [
    "# now lets create pairs, you can see that if we zip two lists of filepaths together\n",
    "# we will make pairs of g4hunter result and annotation files :)\n",
    "# you have to check it because of known server bug currently in progress of fixing! :)\n",
    "\n",
    "for result, annotation in zip(results, annotations):\n",
    "    print(result)\n",
    "    print(annotation)\n",
    "    print('-------------')"
   ]
  },
  {
   "cell_type": "code",
   "execution_count": 17,
   "metadata": {
    "scrolled": true
   },
   "outputs": [
    {
     "name": "stdout",
     "output_type": "stream",
     "text": [
      "2020-03-29 20:24:46.944131 [INFO]: Overlay analysis /home/patrikkaura/Git/DNA_analyser_IBP/example/overlay/melanogaster_1.csv save!\n",
      "2020-03-29 20:25:07.761183 [INFO]: Overlay analysis /home/patrikkaura/Git/DNA_analyser_IBP/example/overlay/melanogaster_2.csv save!\n",
      "2020-03-29 20:25:36.009943 [INFO]: Overlay analysis /home/patrikkaura/Git/DNA_analyser_IBP/example/overlay/melanogaster_3.csv save!\n",
      "2020-03-29 20:26:00.983241 [INFO]: Overlay analysis /home/patrikkaura/Git/DNA_analyser_IBP/example/overlay/melanogaster_4.csv save!\n",
      "2020-03-29 20:26:01.643772 [INFO]: Overlay analysis /home/patrikkaura/Git/DNA_analyser_IBP/example/overlay/melanogaster_5.csv save!\n"
     ]
    }
   ],
   "source": [
    "# now run overlay\n",
    "# you have to again provide folder where you want to store overlay results\n",
    "\n",
    "for annotation, result in zip(annotations, results):\n",
    "    API.tools.annotation_overlay(\n",
    "        area_size=100,\n",
    "        analyse_file=result,\n",
    "        annotation_file=annotation,\n",
    "        overlay_path='/home/patrikkaura/Git/DNA_analyser_IBP/example/overlay'\n",
    "    )"
   ]
  },
  {
   "cell_type": "markdown",
   "metadata": {},
   "source": [
    "``` NOW ITS UP TO YOU TO MAKE SCIENCE :)\n",
    "                              !         !          \n",
    "                             ! !       ! !          \n",
    "                            ! . !     ! . !          \n",
    "                               ^^^^^^^^^ ^            \n",
    "                             ^             ^          \n",
    "                           ^  (0)       (0)  ^       \n",
    "                          ^        \"\"         ^       \n",
    "                         ^   ***************    ^     \n",
    "                       ^   *                 *   ^    \n",
    "                      ^   *   /\\   /\\   /\\    *    ^   \n",
    "                     ^   *                     *    ^\n",
    "                    ^   *   /\\   /\\   /\\   /\\   *    ^\n",
    "                   ^   *                         *    ^\n",
    "                   ^  *                           *   ^\n",
    "                   ^  *                           *   ^\n",
    "                    ^ *                           *  ^  \n",
    "                     ^*                           * ^ \n",
    "                      ^ *                        * ^\n",
    "                      ^  *                      *  ^\n",
    "                        ^  *       ) (         * ^\n",
    "                            ^^^^^^^^ ^^^^^^^^^ \n",
    "```"
   ]
  }
 ],
 "metadata": {
  "kernelspec": {
   "display_name": "Python 3",
   "language": "python",
   "name": "python3"
  },
  "language_info": {
   "codemirror_mode": {
    "name": "ipython",
    "version": 3
   },
   "file_extension": ".py",
   "mimetype": "text/x-python",
   "name": "python",
   "nbconvert_exporter": "python",
   "pygments_lexer": "ipython3",
   "version": "3.6.9"
  }
 },
 "nbformat": 4,
 "nbformat_minor": 4
}
